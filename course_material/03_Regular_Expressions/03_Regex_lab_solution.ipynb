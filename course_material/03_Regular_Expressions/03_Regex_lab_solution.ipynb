{
 "cells": [
  {
   "cell_type": "markdown",
   "metadata": {},
   "source": [
    "# Laboratory 03\n",
    "\n",
    "## 1. Write regular expressions that match any number of digits greedily. Do not match anything else."
   ]
  },
  {
   "cell_type": "code",
   "execution_count": 1,
   "metadata": {},
   "outputs": [],
   "source": [
    "import re\n",
    "\n",
    "patt = re.compile(r'^\\d+$')\n",
    "    \n",
    "assert(patt.match(\"123\"))\n",
    "assert(patt.match(\"123ab\") is None)"
   ]
  },
  {
   "cell_type": "markdown",
   "metadata": {},
   "source": [
    "## 2. Match Hungarian phone numbers. The numbers do not include spaces or hyphens."
   ]
  },
  {
   "cell_type": "code",
   "execution_count": 2,
   "metadata": {},
   "outputs": [],
   "source": [
    "patt = re.compile(r'^\\+36\\d{9}$')\n",
    "\n",
    "assert(patt.match(\"+36301234567\"))\n",
    "assert(patt.match(\"+37000000000\") is None)\n",
    "assert(patt.match(\"+363012345678\") is None)"
   ]
  },
  {
   "cell_type": "markdown",
   "metadata": {},
   "source": [
    "## 3. Match Hungarian phone numbers that may be grouped in the following ways."
   ]
  },
  {
   "cell_type": "code",
   "execution_count": 3,
   "metadata": {},
   "outputs": [],
   "source": [
    "patt = re.compile(r'^\\+36[ -]?\\d{2}[ -]?\\d{3}[ -]?\\d{4}$')\n",
    "\n",
    "assert(patt.match(\"+36301234567\"))\n",
    "assert(patt.match(\"+37000000000\") is None)\n",
    "assert(patt.match(\"+363012345678\") is None)\n",
    "assert(patt.match(\"+36 30 123 4566\"))\n",
    "assert(patt.match(\"+36-30-123-4566\"))\n",
    "assert(patt.match(\"+36-30-123-45667\") is None)"
   ]
  },
  {
   "cell_type": "markdown",
   "metadata": {},
   "source": [
    "## 4. Match any floating point numbers. Do not match invalid numbers such as 0.34.1"
   ]
  },
  {
   "cell_type": "code",
   "execution_count": 4,
   "metadata": {},
   "outputs": [],
   "source": [
    "patt = re.compile(r'^\\d+(\\.\\d+)?$')\n",
    "\n",
    "assert(patt.match(\"1.9\"))\n",
    "assert(patt.match(\"1.9.2\") is None)"
   ]
  },
  {
   "cell_type": "markdown",
   "metadata": {},
   "source": [
    "## 5. Match email addresses."
   ]
  },
  {
   "cell_type": "code",
   "execution_count": 5,
   "metadata": {},
   "outputs": [],
   "source": [
    "patt = re.compile(r'^[a-zA-Z._][a-zA-Z0-9._]*@[a-zA-Z0-9._]+\\.[a-z]{2,3}$')\n",
    "\n",
    "assert(patt.match(\"abc@example.com\"))\n",
    "assert(patt.match(\"abc\") is None)\n",
    "assert(patt.match(\"abc@example@example.com\") is None)"
   ]
  },
  {
   "cell_type": "markdown",
   "metadata": {},
   "source": [
    "## 6. Match any number in hexadecimal format. Hexadecimal numbers are prefixed with 0x."
   ]
  },
  {
   "cell_type": "code",
   "execution_count": 6,
   "metadata": {},
   "outputs": [],
   "source": [
    "patt = re.compile(r'^0x[a-fA-F0-9]+$')\n",
    "\n",
    "assert(patt.match(\"0xa\"))\n",
    "assert(patt.match(\"0x16FA\"))\n",
    "assert(patt.match(\"16FA\") is None)\n",
    "assert(patt.match(\"0x16FG\") is None)"
   ]
  },
  {
   "cell_type": "markdown",
   "metadata": {},
   "source": [
    "## 7. Remove everything between parentheses. Be careful about the next pair of parantheses."
   ]
  },
  {
   "cell_type": "code",
   "execution_count": 7,
   "metadata": {},
   "outputs": [],
   "source": [
    "patt = re.compile(r'\\([^)]*\\)')\n",
    "\n",
    "assert(patt.sub(\"\",  \"(a)bc\") == \"bc\")\n",
    "assert(patt.sub(\"\",  \"abc\") == \"abc\")\n",
    "assert(patt.sub(\"\",  \"a (bc) de (12)\") == \"a  de \")"
   ]
  },
  {
   "cell_type": "markdown",
   "metadata": {},
   "source": [
    "## 8. Create a simple word tokenizer using regular expressions. What patterns should you split on? Add more tests."
   ]
  },
  {
   "cell_type": "code",
   "execution_count": 8,
   "metadata": {},
   "outputs": [],
   "source": [
    "patt = re.compile(r'[\\s.]+')\n",
    "\n",
    "assert(patt.split(\"simple sentence.\") == [\"simple\", \"sentence\", \"\"])\n",
    "assert(patt.split(\"multiple \\t whitespaces\") == [\"multiple\", \"whitespaces\"])"
   ]
  }
 ],
 "metadata": {
  "kernelspec": {
   "display_name": "Python 3",
   "language": "python",
   "name": "python3"
  },
  "language_info": {
   "codemirror_mode": {
    "name": "ipython",
    "version": 3
   },
   "file_extension": ".py",
   "mimetype": "text/x-python",
   "name": "python",
   "nbconvert_exporter": "python",
   "pygments_lexer": "ipython3",
   "version": "3.6.2"
  }
 },
 "nbformat": 4,
 "nbformat_minor": 2
}
