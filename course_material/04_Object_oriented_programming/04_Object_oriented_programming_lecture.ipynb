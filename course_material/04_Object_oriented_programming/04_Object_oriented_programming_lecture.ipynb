{
 "cells": [
  {
   "cell_type": "markdown",
   "metadata": {
    "slideshow": {
     "slide_type": "slide"
    }
   },
   "source": [
    "# Introduction to Python and Natural Language Technologies\n",
    "\n",
    "# Lecture 03, Week 04\n",
    "\n",
    "## Object oriented programming\n",
    "\n",
    "### 27 September 2017"
   ]
  },
  {
   "cell_type": "markdown",
   "metadata": {
    "slideshow": {
     "slide_type": "slide"
    }
   },
   "source": [
    "# Introduction\n",
    "\n",
    "- Python has been object oriented since its first version\n",
    "- basically everything is an object including\n",
    "  - class definitions\n",
    "  - functions\n",
    "  - modules\n",
    "- PEP8 defines style guidelines for classes as well"
   ]
  },
  {
   "cell_type": "markdown",
   "metadata": {
    "slideshow": {
     "slide_type": "slide"
    }
   },
   "source": [
    "## Defining classes\n",
    "\n",
    "- `class` keyword\n",
    "- instance explicitly bound to the first parameter of each method\n",
    "  - named `self` by convention\n",
    "- `__init__` is called after the instance is created\n",
    "  - not exactly a constructor because the instance already exists\n",
    "  - not mandatory"
   ]
  },
  {
   "cell_type": "code",
   "execution_count": 1,
   "metadata": {
    "collapsed": true,
    "slideshow": {
     "slide_type": "subslide"
    }
   },
   "outputs": [],
   "source": [
    "class ClassWithInit:\n",
    "    def __init__(self):\n",
    "        pass\n",
    "    \n",
    "class ClassWithoutInit:\n",
    "    pass"
   ]
  },
  {
   "cell_type": "markdown",
   "metadata": {
    "slideshow": {
     "slide_type": "slide"
    }
   },
   "source": [
    "# Class attributes\n",
    "\n",
    "1. data attributes: these correspond to data members in C++\n",
    "1. methods: these correspond to methods in C++\n",
    "\n",
    "### both are\n",
    "\n",
    "- created upon assignment\n",
    "- can be assigned anywhere (not just in `__init__`)"
   ]
  },
  {
   "cell_type": "code",
   "execution_count": 2,
   "metadata": {
    "slideshow": {
     "slide_type": "subslide"
    }
   },
   "outputs": [
    {
     "name": "stdout",
     "output_type": "stream",
     "text": [
      "42\n",
      "43\n"
     ]
    }
   ],
   "source": [
    "class A:\n",
    "    def __init__(self):\n",
    "        self.attr1 = 42\n",
    "        \n",
    "    def method(self):\n",
    "        self.attr2 = 43\n",
    "        \n",
    "a = A()\n",
    "print(a.attr1)\n",
    "# print(a.attr2)  # raises AttributeError\n",
    "a.method()\n",
    "print(a.attr2)"
   ]
  },
  {
   "cell_type": "markdown",
   "metadata": {
    "slideshow": {
     "slide_type": "subslide"
    }
   },
   "source": [
    "#### Attributes can be added to instances "
   ]
  },
  {
   "cell_type": "code",
   "execution_count": 3,
   "metadata": {},
   "outputs": [
    {
     "name": "stdout",
     "output_type": "stream",
     "text": [
      "11\n"
     ]
    }
   ],
   "source": [
    "a.attr3 = 11\n",
    "print(a.attr3)"
   ]
  },
  {
   "cell_type": "markdown",
   "metadata": {
    "slideshow": {
     "slide_type": "fragment"
    }
   },
   "source": [
    "#### this will not affect other instances"
   ]
  },
  {
   "cell_type": "code",
   "execution_count": 4,
   "metadata": {
    "collapsed": true
   },
   "outputs": [],
   "source": [
    "a2 = A()\n",
    "# a2.attr3  # raises AttributeError"
   ]
  },
  {
   "cell_type": "markdown",
   "metadata": {
    "slideshow": {
     "slide_type": "subslide"
    }
   },
   "source": [
    "## `__init__` may have arguments"
   ]
  },
  {
   "cell_type": "code",
   "execution_count": 5,
   "metadata": {
    "collapsed": true
   },
   "outputs": [],
   "source": [
    "class InitWithArguments:\n",
    "    def __init__(self, value, value_with_default=42):\n",
    "        self.attr = value\n",
    "        self.solution_of_the_world = value_with_default\n",
    "        \n",
    "class InitWithVariableNumberOfArguments:\n",
    "    def __init__(self, *args, **kwargs):\n",
    "        self.val1 = args[0]\n",
    "        self.val2 = kwargs.get('important_param', 42)"
   ]
  },
  {
   "cell_type": "code",
   "execution_count": 6,
   "metadata": {},
   "outputs": [
    {
     "name": "stdout",
     "output_type": "stream",
     "text": [
      "41 42 1 23\n"
     ]
    }
   ],
   "source": [
    "obj1 = InitWithArguments(41)\n",
    "obj2 = InitWithVariableNumberOfArguments(1, 2, 3, param4=\"apple\", important_param=23)\n",
    "print(obj1.attr, obj1.solution_of_the_world, \n",
    "      obj2.val1, obj2.val2)"
   ]
  },
  {
   "cell_type": "markdown",
   "metadata": {
    "slideshow": {
     "slide_type": "slide"
    }
   },
   "source": [
    "## Method attributes\n",
    "\n",
    "- functions inside the class definition\n",
    "- explicitly take the instance as first parameter"
   ]
  },
  {
   "cell_type": "code",
   "execution_count": 7,
   "metadata": {
    "collapsed": true
   },
   "outputs": [],
   "source": [
    "class A:\n",
    "    def foo(self):\n",
    "        print(\"foo called\")\n",
    "    \n",
    "    def bar(self, param):\n",
    "        print(\"bar called with parameter {}\".format(param))"
   ]
  },
  {
   "cell_type": "markdown",
   "metadata": {
    "slideshow": {
     "slide_type": "subslide"
    }
   },
   "source": [
    "### Calling methods\n",
    "\n",
    "1. `instance.method(param)`\n",
    "2. `class.method(instance, param)`"
   ]
  },
  {
   "cell_type": "code",
   "execution_count": 8,
   "metadata": {},
   "outputs": [
    {
     "name": "stdout",
     "output_type": "stream",
     "text": [
      "foo called\n",
      "bar called with parameter 42\n",
      "foo called\n",
      "bar called with parameter 43\n"
     ]
    }
   ],
   "source": [
    "c = A()\n",
    "c.foo()\n",
    "c.bar(42)\n",
    "A.foo(c)\n",
    "A.bar(c, 43)"
   ]
  },
  {
   "cell_type": "markdown",
   "metadata": {
    "collapsed": true,
    "slideshow": {
     "slide_type": "slide"
    }
   },
   "source": [
    "## Special attributes\n",
    "\n",
    "- every object has a number of special attributes\n",
    "- **double underscore or dunder** notation: `__attribute__`\n",
    "- automatically created\n",
    "- advanced OOP features are implemented using these"
   ]
  },
  {
   "cell_type": "code",
   "execution_count": 9,
   "metadata": {
    "slideshow": {
     "slide_type": "fragment"
    }
   },
   "outputs": [
    {
     "data": {
      "text/plain": [
       "'__module__, foo, bar, __dict__, __weakref__, __doc__'"
      ]
     },
     "execution_count": 9,
     "metadata": {},
     "output_type": "execute_result"
    }
   ],
   "source": [
    "', '.join(A.__dict__)"
   ]
  },
  {
   "cell_type": "markdown",
   "metadata": {
    "slideshow": {
     "slide_type": "slide"
    }
   },
   "source": [
    "## Data hiding with name mangling\n",
    "\n",
    "- by default every attribute is public\n",
    "- private attributes can be defined through name mangling\n",
    "  - every attribute with at least two leading underscores and at most one trailing underscore is replaced with a mangled attribute\n",
    "  - emulates private behavior\n",
    "  - mangled name: `__classname_attrname`"
   ]
  },
  {
   "cell_type": "code",
   "execution_count": 10,
   "metadata": {
    "slideshow": {
     "slide_type": "subslide"
    }
   },
   "outputs": [
    {
     "name": "stdout",
     "output_type": "stream",
     "text": [
      "43\n"
     ]
    },
    {
     "data": {
      "text/plain": [
       "{'_A__private_attr': 43}"
      ]
     },
     "execution_count": 10,
     "metadata": {},
     "output_type": "execute_result"
    }
   ],
   "source": [
    "class A:\n",
    "    def __init__(self):\n",
    "        self.__private_attr = 42\n",
    "        \n",
    "    def foo(self):\n",
    "        self.__private_attr += 1\n",
    "        \n",
    "a = A()\n",
    "a.foo()\n",
    "# print(a.__private_attr)  # raises AttributeError\n",
    "a.__dict__\n",
    "print(a._A__private_attr)  # name mangled\n",
    "a.__dict__"
   ]
  },
  {
   "cell_type": "markdown",
   "metadata": {
    "collapsed": true,
    "slideshow": {
     "slide_type": "slide"
    }
   },
   "source": [
    "## Class attributes\n",
    "\n",
    "- class attributes are class-global attributes\n",
    "- roughly the same as static attributes in C++"
   ]
  },
  {
   "cell_type": "code",
   "execution_count": 11,
   "metadata": {
    "collapsed": true
   },
   "outputs": [],
   "source": [
    "class A:\n",
    "    class_attr = 42"
   ]
  },
  {
   "cell_type": "markdown",
   "metadata": {
    "slideshow": {
     "slide_type": "subslide"
    }
   },
   "source": [
    "#### Accessing class attributes via instances"
   ]
  },
  {
   "cell_type": "code",
   "execution_count": 12,
   "metadata": {},
   "outputs": [
    {
     "data": {
      "text/plain": [
       "42"
      ]
     },
     "execution_count": 12,
     "metadata": {},
     "output_type": "execute_result"
    }
   ],
   "source": [
    "a1 = A()\n",
    "a1.class_attr"
   ]
  },
  {
   "cell_type": "markdown",
   "metadata": {
    "slideshow": {
     "slide_type": "subslide"
    }
   },
   "source": [
    "#### Accessing class attributes via the class object"
   ]
  },
  {
   "cell_type": "code",
   "execution_count": 13,
   "metadata": {},
   "outputs": [
    {
     "data": {
      "text/plain": [
       "42"
      ]
     },
     "execution_count": 13,
     "metadata": {},
     "output_type": "execute_result"
    }
   ],
   "source": [
    "A.class_attr"
   ]
  },
  {
   "cell_type": "markdown",
   "metadata": {
    "slideshow": {
     "slide_type": "fragment"
    }
   },
   "source": [
    "#### Setting the class object via the class"
   ]
  },
  {
   "cell_type": "code",
   "execution_count": 14,
   "metadata": {},
   "outputs": [
    {
     "name": "stdout",
     "output_type": "stream",
     "text": [
      "42 42\n"
     ]
    },
    {
     "data": {
      "text/plain": [
       "(43, 43)"
      ]
     },
     "execution_count": 14,
     "metadata": {},
     "output_type": "execute_result"
    }
   ],
   "source": [
    "a1 = A()\n",
    "a2 = A()\n",
    "\n",
    "print(a1.class_attr, a2.class_attr)\n",
    "A.class_attr = 43\n",
    "a1.class_attr,  a2.class_attr"
   ]
  },
  {
   "cell_type": "markdown",
   "metadata": {
    "slideshow": {
     "slide_type": "subslide"
    }
   },
   "source": [
    "#### Cannot set via an instance"
   ]
  },
  {
   "cell_type": "code",
   "execution_count": 15,
   "metadata": {},
   "outputs": [
    {
     "data": {
      "text/plain": [
       "43"
      ]
     },
     "execution_count": 15,
     "metadata": {},
     "output_type": "execute_result"
    }
   ],
   "source": [
    "a1 = A()\n",
    "a2 = A()\n",
    "a1.class_attr = 11\n",
    "a2.class_attr"
   ]
  },
  {
   "cell_type": "markdown",
   "metadata": {},
   "source": [
    "because this assignment creates a new attribute in the *instance's namespace*."
   ]
  },
  {
   "cell_type": "code",
   "execution_count": 16,
   "metadata": {},
   "outputs": [
    {
     "data": {
      "text/plain": [
       "{'class_attr': 11}"
      ]
     },
     "execution_count": 16,
     "metadata": {},
     "output_type": "execute_result"
    }
   ],
   "source": [
    "a1.__dict__"
   ]
  },
  {
   "cell_type": "markdown",
   "metadata": {},
   "source": [
    "each object has a `__class__` magic attribute that accesses the class object.\n",
    "We can use this to access the class attribute:"
   ]
  },
  {
   "cell_type": "code",
   "execution_count": 17,
   "metadata": {},
   "outputs": [
    {
     "data": {
      "text/plain": [
       "43"
      ]
     },
     "execution_count": 17,
     "metadata": {},
     "output_type": "execute_result"
    }
   ],
   "source": [
    "a1.__class__.class_attr"
   ]
  },
  {
   "cell_type": "markdown",
   "metadata": {},
   "source": [
    "`a2` has not shadowed `class_attr`, so we can access it through the instance"
   ]
  },
  {
   "cell_type": "code",
   "execution_count": 18,
   "metadata": {},
   "outputs": [
    {
     "data": {
      "text/plain": [
       "({}, 43)"
      ]
     },
     "execution_count": 18,
     "metadata": {},
     "output_type": "execute_result"
    }
   ],
   "source": [
    "a2.__dict__, a2.class_attr"
   ]
  },
  {
   "cell_type": "markdown",
   "metadata": {
    "slideshow": {
     "slide_type": "slide"
    }
   },
   "source": [
    "# Inheritance\n",
    "\n",
    "- Python supports inheritance and multiple inheritance"
   ]
  },
  {
   "cell_type": "code",
   "execution_count": 19,
   "metadata": {},
   "outputs": [
    {
     "name": "stdout",
     "output_type": "stream",
     "text": [
      "False\n",
      "True\n",
      "True\n",
      "False\n"
     ]
    }
   ],
   "source": [
    "class A:\n",
    "    pass\n",
    "\n",
    "class B(A):\n",
    "    pass\n",
    "\n",
    "a = A()\n",
    "b = B()\n",
    "print(isinstance(a, B))\n",
    "print(isinstance(b, A))\n",
    "print(issubclass(B, A))\n",
    "print(issubclass(A, B))"
   ]
  },
  {
   "cell_type": "markdown",
   "metadata": {
    "slideshow": {
     "slide_type": "slide"
    }
   },
   "source": [
    "# New style vs. old style classes\n",
    "\n",
    "## Python 2\n",
    "\n",
    "- Python 2.2 introduced a new inheritance mechanism\n",
    "- new style classes vs. old style classes\n",
    "- class is new style if it subclasses `object` or one of its predecessors subclasses `object`\n",
    "- wide range of previously unavailable functionality\n",
    "- old style classes are the default in Python 2"
   ]
  },
  {
   "cell_type": "markdown",
   "metadata": {
    "slideshow": {
     "slide_type": "subslide"
    }
   },
   "source": [
    "## Python 3\n",
    "\n",
    "- only supports new style classes\n",
    "- every class implicitly subclasses `object`\n",
    "\n",
    "The differences between old style and new style classes are listed here: https://wiki.python.org/moin/NewClassVsClassicClass"
   ]
  },
  {
   "cell_type": "code",
   "execution_count": 20,
   "metadata": {
    "collapsed": true,
    "slideshow": {
     "slide_type": "subslide"
    }
   },
   "outputs": [],
   "source": [
    "%%python2\n",
    "\n",
    "class OldStyleClass:\n",
    "    pass\n",
    "\n",
    "class NewStyleClass(object):\n",
    "    pass\n",
    "\n",
    "class ThisIsAlsoNewStyleClass(NewStyleClass):\n",
    "    pass"
   ]
  },
  {
   "cell_type": "markdown",
   "metadata": {
    "slideshow": {
     "slide_type": "subslide"
    }
   },
   "source": [
    "### Python 3 implicitly subclasses object"
   ]
  },
  {
   "cell_type": "code",
   "execution_count": 21,
   "metadata": {},
   "outputs": [
    {
     "name": "stdout",
     "output_type": "stream",
     "text": [
      "True\n",
      "True\n"
     ]
    }
   ],
   "source": [
    "class A: pass\n",
    "class B(object): pass\n",
    "\n",
    "print(issubclass(A, object))\n",
    "print(issubclass(B, object))"
   ]
  },
  {
   "cell_type": "markdown",
   "metadata": {
    "slideshow": {
     "slide_type": "slide"
    }
   },
   "source": [
    "## Method inheritance\n",
    "\n",
    "Methods are inherited and overridden in the usual way"
   ]
  },
  {
   "cell_type": "code",
   "execution_count": 22,
   "metadata": {},
   "outputs": [
    {
     "name": "stdout",
     "output_type": "stream",
     "text": [
      "B.foo was called\n",
      "A.bar was called\n"
     ]
    }
   ],
   "source": [
    "class A(object):\n",
    "    def foo(self):\n",
    "        print(\"A.foo was called\")\n",
    "        \n",
    "    def bar(self):\n",
    "        print(\"A.bar was called\")\n",
    "        \n",
    "class B(A):\n",
    "    def foo(self):\n",
    "        print(\"B.foo was called\")\n",
    "        \n",
    "b = B()\n",
    "b.foo()\n",
    "b.bar()"
   ]
  },
  {
   "cell_type": "markdown",
   "metadata": {
    "slideshow": {
     "slide_type": "subslide"
    }
   },
   "source": [
    "Since data attributes can be created anywhere, they are only inherited if the code in the base class' method is called."
   ]
  },
  {
   "cell_type": "code",
   "execution_count": 23,
   "metadata": {},
   "outputs": [
    {
     "name": "stdout",
     "output_type": "stream",
     "text": [
      "{}\n",
      "{}\n",
      "{'value': 42}\n"
     ]
    }
   ],
   "source": [
    "class A(object):\n",
    "    \n",
    "    def foo(self):\n",
    "        self.value = 42\n",
    "        \n",
    "class B(A):\n",
    "    pass\n",
    "\n",
    "b = B()\n",
    "print(b.__dict__)\n",
    "a = A()\n",
    "print(a.__dict__)\n",
    "a.foo()\n",
    "print(a.__dict__)"
   ]
  },
  {
   "cell_type": "markdown",
   "metadata": {
    "slideshow": {
     "slide_type": "slide"
    }
   },
   "source": [
    "### Calling the base class's constructor\n",
    "\n",
    "- since `__init__` is not a constructor, the base class' init is not called automatically, if the subclass overrides it"
   ]
  },
  {
   "cell_type": "code",
   "execution_count": 24,
   "metadata": {},
   "outputs": [
    {
     "name": "stdout",
     "output_type": "stream",
     "text": [
      "B.__init__ called\n",
      "A.__init__ called\n"
     ]
    }
   ],
   "source": [
    "class A(object):\n",
    "    def __init__(self):\n",
    "        print(\"A.__init__ called\")        \n",
    "class B(A):\n",
    "    def __init__(self):\n",
    "        print(\"B.__init__ called\")        \n",
    "class C(A): pass\n",
    "        \n",
    "b = B()\n",
    "c = C()"
   ]
  },
  {
   "cell_type": "markdown",
   "metadata": {
    "slideshow": {
     "slide_type": "subslide"
    }
   },
   "source": [
    "The base class's methods can be called in at least two ways:\n",
    "1. explicitely via the class name\n",
    "1. using the **super** function"
   ]
  },
  {
   "cell_type": "code",
   "execution_count": 25,
   "metadata": {
    "slideshow": {
     "slide_type": "subslide"
    }
   },
   "outputs": [
    {
     "name": "stdout",
     "output_type": "stream",
     "text": [
      "Instantiating B\n",
      "A.__init__ called\n",
      "B.__init__ called\n",
      "Instantiating C\n",
      "A.__init__ called\n",
      "B.__init__ called\n",
      "C.__init__ called\n"
     ]
    }
   ],
   "source": [
    "class A(object):\n",
    "    def __init__(self):\n",
    "        print(\"A.__init__ called\")\n",
    "        \n",
    "        \n",
    "class B(A):\n",
    "    def __init__(self):\n",
    "        A.__init__(self)\n",
    "        print(\"B.__init__ called\")\n",
    "        \n",
    "class C(B):\n",
    "    def __init__(self):\n",
    "        super().__init__()\n",
    "        print(\"C.__init__ called\")\n",
    "        \n",
    "print(\"Instantiating B\")\n",
    "b = B()\n",
    "print(\"Instantiating C\")\n",
    "c = C()"
   ]
  },
  {
   "cell_type": "markdown",
   "metadata": {
    "slideshow": {
     "slide_type": "subslide"
    }
   },
   "source": [
    "`super`'s usage was more complicated in Python 2"
   ]
  },
  {
   "cell_type": "code",
   "execution_count": 26,
   "metadata": {},
   "outputs": [
    {
     "name": "stdout",
     "output_type": "stream",
     "text": [
      "Instantiating B\n",
      "A.__init__ called\n",
      "B.__init__ called\n",
      "Instantiating C\n",
      "A.__init__ called\n",
      "B.__init__ called\n"
     ]
    }
   ],
   "source": [
    "%%python2\n",
    "\n",
    "class A(object):\n",
    "    def __init__(self):\n",
    "        print(\"A.__init__ called\")\n",
    "        \n",
    "        \n",
    "class B(A):\n",
    "    def __init__(self):\n",
    "        A.__init__(self)\n",
    "        print(\"B.__init__ called\")\n",
    "        \n",
    "class C(A):\n",
    "    def __init__(self):\n",
    "        super(C, self).__init__()\n",
    "        print(\"B.__init__ called\")\n",
    "        \n",
    "print(\"Instantiating B\")\n",
    "b = B()\n",
    "print(\"Instantiating C\")\n",
    "c = C()"
   ]
  },
  {
   "cell_type": "markdown",
   "metadata": {
    "slideshow": {
     "slide_type": "notes"
    }
   },
   "source": [
    "A complete example using super in the subclass's init:"
   ]
  },
  {
   "cell_type": "code",
   "execution_count": 27,
   "metadata": {
    "slideshow": {
     "slide_type": "notes"
    }
   },
   "outputs": [
    {
     "name": "stdout",
     "output_type": "stream",
     "text": [
      "Jakab Gipsz, age 33, position: manager, salary: 450000\n",
      "Jakab Gipsz, age 33\n"
     ]
    }
   ],
   "source": [
    "class Person(object):\n",
    "    \n",
    "    def __init__(self, name, age):\n",
    "        self.name = name\n",
    "        self.age = age\n",
    "        \n",
    "    def __str__(self):\n",
    "        return \"{0}, age {1}\".format(self.name, self.age)\n",
    "        \n",
    "class Employee(Person):\n",
    "    \n",
    "    def __init__(self, name, age, position, salary):\n",
    "        self.position = position\n",
    "        self.salary = salary\n",
    "        super().__init__(name, age)\n",
    "        \n",
    "    def __str__(self):\n",
    "        return \"{0}, position: {1}, salary: {2}\".format(super().__str__(), self.position, self.salary)\n",
    "    \n",
    "    \n",
    "e = Employee(\"Jakab Gipsz\", 33, \"manager\", 450000)\n",
    "print(e)\n",
    "print(Person(e.name, e.age))"
   ]
  },
  {
   "cell_type": "markdown",
   "metadata": {
    "slideshow": {
     "slide_type": "slide"
    }
   },
   "source": [
    "## Duck typing and interfaces\n",
    "\n",
    "- no built-in mechanism for interfacing\n",
    "- the Abstract Base Classes (abc) module implements interface-like features\n",
    "- not used extensively in Python in favor of duck typing\n",
    "\n",
    "\"In computer programming, duck typing is an application of the duck test in type safety. It requires that type checking be deferred to runtime, and is implemented by means of dynamic typing or reflection.\" -- [Wikipedia](https://en.wikipedia.org/wiki/Duck_typing)\n",
    "\n",
    "\"If it looks like a duck, swims like a duck, and quacks like a duck, then it probably is a duck.\" -- [Wikipedia](https://en.wikipedia.org/wiki/Duck_test)\n",
    "\n",
    "- allows polymorphism without abstract base classes"
   ]
  },
  {
   "cell_type": "code",
   "execution_count": 28,
   "metadata": {
    "slideshow": {
     "slide_type": "subslide"
    }
   },
   "outputs": [
    {
     "name": "stdout",
     "output_type": "stream",
     "text": [
      "Mieuw\n",
      "Vau\n"
     ]
    }
   ],
   "source": [
    "class Cat(object):\n",
    "    \n",
    "    def make_sound(self):\n",
    "        self.mieuw()\n",
    "        \n",
    "    def mieuw(self):\n",
    "        print(\"Mieuw\")\n",
    "        \n",
    "        \n",
    "class Dog(object):\n",
    "    \n",
    "    def make_sound(self):\n",
    "        self.bark()\n",
    "        \n",
    "    def bark(self):\n",
    "        print(\"Vau\")\n",
    "        \n",
    "\n",
    "animals = [Cat(), Dog()]\n",
    "for animal in animals:\n",
    "    # animal must have a make_sound method\n",
    "    animal.make_sound()"
   ]
  },
  {
   "cell_type": "markdown",
   "metadata": {
    "slideshow": {
     "slide_type": "subslide"
    }
   },
   "source": [
    "### `NotImplementedError`\n",
    "\n",
    "- emulating C++'s pure virtual function"
   ]
  },
  {
   "cell_type": "code",
   "execution_count": 29,
   "metadata": {},
   "outputs": [
    {
     "name": "stdout",
     "output_type": "stream",
     "text": [
      "Yay.\n"
     ]
    }
   ],
   "source": [
    "class A(object):\n",
    "    def foo(self):\n",
    "        raise NotImplementedError()\n",
    "        \n",
    "class B(A):\n",
    "    def foo(self):\n",
    "        print(\"Yay.\")\n",
    "        \n",
    "class C(A): pass\n",
    "b = B()\n",
    "b.foo()\n",
    "c = C()\n",
    "# c.foo()  # NotImplementedError why does this happen?"
   ]
  },
  {
   "cell_type": "markdown",
   "metadata": {
    "slideshow": {
     "slide_type": "subslide"
    }
   },
   "source": [
    "- we can still instantiate A"
   ]
  },
  {
   "cell_type": "code",
   "execution_count": 30,
   "metadata": {
    "collapsed": true
   },
   "outputs": [],
   "source": [
    "a = A()"
   ]
  },
  {
   "cell_type": "markdown",
   "metadata": {
    "slideshow": {
     "slide_type": "slide"
    }
   },
   "source": [
    "# Magic methods\n",
    "\n",
    "- mechanism to implement advanced OO features\n",
    "- **dunder** methods"
   ]
  },
  {
   "cell_type": "markdown",
   "metadata": {
    "slideshow": {
     "slide_type": "subslide"
    }
   },
   "source": [
    "## `__str__` method\n",
    "\n",
    "- returns the string representation of the object\n",
    "- Python 2 has two separate methods `__str__` and `__unicode__` for bytestrings and unicode strings"
   ]
  },
  {
   "cell_type": "code",
   "execution_count": 31,
   "metadata": {},
   "outputs": [
    {
     "name": "stdout",
     "output_type": "stream",
     "text": [
      "Printint a class that does not __str__: <__main__.ClassWithoutStr object at 0x7f986c96b828>\n",
      "Printint a class that defines __str__: My id is 140292633572240 and my parameter is 345\n"
     ]
    }
   ],
   "source": [
    "class ClassWithoutStr(object):\n",
    "    def __init__(self, value=42):\n",
    "        self.param = value\n",
    "        \n",
    "        \n",
    "class ClassWithStr(object):\n",
    "    def __init__(self, value=42):\n",
    "        self.param = value\n",
    "        \n",
    "    def __str__(self):\n",
    "        return \"My id is {0} and my parameter is {1}\".format(\n",
    "            id(self), self.param)\n",
    "    \n",
    "    \n",
    "print(\"Printint a class that does not __str__: {}\".format(ClassWithoutStr(345)))\n",
    "print(\"Printint a class that defines __str__: {}\".format(ClassWithStr(345)))"
   ]
  },
  {
   "cell_type": "markdown",
   "metadata": {
    "slideshow": {
     "slide_type": "slide"
    }
   },
   "source": [
    "## Operator overloading\n",
    "\n",
    "- operators are mapped to magic functions\n",
    "- defining these functions defines/overrides operators\n",
    "- comprehensive list of operator functions are [here](https://docs.python.org/2/library/operator.html)\n",
    "- some built-in functions are included as well\n",
    "  - `__len__`: defines the behavior of `len(obj)`\n",
    "  - `__abs__`: defines the behavior of `abs(obj)`"
   ]
  },
  {
   "cell_type": "code",
   "execution_count": 32,
   "metadata": {
    "slideshow": {
     "slide_type": "subslide"
    }
   },
   "outputs": [
    {
     "data": {
      "text/plain": [
       "(1.4142135623730951, False)"
      ]
     },
     "execution_count": 32,
     "metadata": {},
     "output_type": "execute_result"
    }
   ],
   "source": [
    "class Complex(object):\n",
    "    def __init__(self, real=0.0, imag=0.0):\n",
    "        self.real = real\n",
    "        self.imag = imag\n",
    "        \n",
    "    def __abs__(self):\n",
    "        return (self.real**2 + self.imag**2) ** 0.5\n",
    "    \n",
    "    def __eq__(self, other):  # right hand side\n",
    "        return self.real == other.real and self.imag == other.imag\n",
    "    \n",
    "    def __gt__(self, other):\n",
    "        return abs(self) > abs(other)\n",
    "    \n",
    "c1 = Complex()\n",
    "c2 = Complex(1, 1)\n",
    "\n",
    "abs(c2), c1 == c2"
   ]
  },
  {
   "cell_type": "markdown",
   "metadata": {},
   "source": [
    "How can we define comparison between different types?\n",
    "\n",
    "Let's define a comparison between `Complex` and strings. We can check for the right operand's type:"
   ]
  },
  {
   "cell_type": "code",
   "execution_count": 33,
   "metadata": {
    "slideshow": {
     "slide_type": "subslide"
    }
   },
   "outputs": [
    {
     "data": {
      "text/plain": [
       "(1.4142135623730951, False, True, False)"
      ]
     },
     "execution_count": 33,
     "metadata": {},
     "output_type": "execute_result"
    }
   ],
   "source": [
    "class Complex(object):\n",
    "    def __init__(self, real=0.0, imag=0.0):\n",
    "        self.real = real\n",
    "        self.imag = imag\n",
    "        \n",
    "    def __abs__(self):\n",
    "        return (self.real**2 + self.imag**2) ** 0.5\n",
    "    \n",
    "    def __eq__(self, other):  # right hand side\n",
    "        return self.real == other.real and self.imag == other.imag\n",
    "    \n",
    "    def __gt__(self, other):\n",
    "        if isinstance(other, str):\n",
    "            return abs(self) > len(other)\n",
    "        return abs(self) > abs(other)\n",
    "    \n",
    "c1 = Complex()\n",
    "c2 = Complex(1, 1)\n",
    "\n",
    "abs(c2), c1 == c2, c2 > \"a\", c2 > \"ab\""
   ]
  },
  {
   "cell_type": "markdown",
   "metadata": {},
   "source": [
    "if the built-in type is the left-operand for which comparison against `Complex` is not defined, the operands are automatically swithced:"
   ]
  },
  {
   "cell_type": "code",
   "execution_count": 34,
   "metadata": {},
   "outputs": [
    {
     "data": {
      "text/plain": [
       "True"
      ]
     },
     "execution_count": 34,
     "metadata": {},
     "output_type": "execute_result"
    }
   ],
   "source": [
    "\"a\" < c2"
   ]
  },
  {
   "cell_type": "markdown",
   "metadata": {},
   "source": [
    "Defining `__gt__` does not automatically define `__lt__`:"
   ]
  },
  {
   "cell_type": "code",
   "execution_count": 35,
   "metadata": {
    "collapsed": true
   },
   "outputs": [],
   "source": [
    "# \"a\" > c2  # raises TypeError"
   ]
  },
  {
   "cell_type": "markdown",
   "metadata": {
    "slideshow": {
     "slide_type": "slide"
    }
   },
   "source": [
    "## Assignment operator\n",
    "\n",
    "- the assignment operator (=) **cannot** be overridden\n",
    "- it performs reference binding instead of copying\n",
    "- tightly bound to the garbage collector"
   ]
  },
  {
   "cell_type": "markdown",
   "metadata": {
    "slideshow": {
     "slide_type": "slide"
    }
   },
   "source": [
    "## Other useful overloads\n",
    "\n",
    "Attributes can be set, get and deleted. 4 magic methods govern these:\n",
    "\n",
    "1. `__setattr__`: called when we set an attribute,\n",
    "1. `__delattr__`: called when we delete an attribute using `del` or `delattr`\n",
    "1. `__getattribute__`: called when accessing attributes\n",
    "1. `__getattr__`: called when the 'usual' attribute lookup fails (for example the attribute is not present in the object's namespace"
   ]
  },
  {
   "cell_type": "code",
   "execution_count": 36,
   "metadata": {
    "collapsed": true
   },
   "outputs": [],
   "source": [
    "class Noisy(object):\n",
    "    def __setattr__(self, attr, value):\n",
    "        print(\"Setting [{}] to value [{}]\".format(attr, value))\n",
    "        super().__setattr__(attr, value)\n",
    "        \n",
    "    def __getattr__(self, attr):\n",
    "        print(\"Getting (getattr) [{}]\".format(attr))\n",
    "        super().__getattr__(attr) \n",
    "        \n",
    "    def __getattribute__(self, attr):\n",
    "        print(\"Getting (getattribute) [{}]\".format(attr))\n",
    "        super().__getattribute__(attr)\n",
    "        \n",
    "    def __delattr__(self, attr):\n",
    "        print(\"You wish\")"
   ]
  },
  {
   "cell_type": "markdown",
   "metadata": {},
   "source": [
    "getting an attribute that doesn't exist yet calls\n",
    "\n",
    "1. getattribute first, which calls the base class' getattribute which fails\n",
    "1. getattr is called."
   ]
  },
  {
   "cell_type": "code",
   "execution_count": 37,
   "metadata": {},
   "outputs": [
    {
     "name": "stdout",
     "output_type": "stream",
     "text": [
      "Getting (getattribute) [dog]\n",
      "Getting (getattr) [dog]\n",
      "AttributeError raised\n"
     ]
    }
   ],
   "source": [
    "a = Noisy()\n",
    "try:\n",
    "    a.dog\n",
    "except AttributeError:\n",
    "    print(\"AttributeError raised\")"
   ]
  },
  {
   "cell_type": "markdown",
   "metadata": {},
   "source": [
    "setting an attribute"
   ]
  },
  {
   "cell_type": "code",
   "execution_count": 38,
   "metadata": {},
   "outputs": [
    {
     "name": "stdout",
     "output_type": "stream",
     "text": [
      "Setting [dog] to value [vau]\n"
     ]
    }
   ],
   "source": [
    "a.dog = \"vau\"  # equivalent to setattr(a, \"dog\", \"vau\")"
   ]
  },
  {
   "cell_type": "markdown",
   "metadata": {},
   "source": [
    "getting an existing attribute"
   ]
  },
  {
   "cell_type": "code",
   "execution_count": 39,
   "metadata": {},
   "outputs": [
    {
     "name": "stdout",
     "output_type": "stream",
     "text": [
      "Getting (getattribute) [dog]\n"
     ]
    }
   ],
   "source": [
    "a.dog  # equivalent to getattr(a, \"dog\")"
   ]
  },
  {
   "cell_type": "markdown",
   "metadata": {},
   "source": [
    "modifying an attribute also calls `__setattr__`"
   ]
  },
  {
   "cell_type": "code",
   "execution_count": 40,
   "metadata": {},
   "outputs": [
    {
     "name": "stdout",
     "output_type": "stream",
     "text": [
      "Setting [dog] to value [Vau]\n"
     ]
    }
   ],
   "source": [
    "a.dog = \"Vau\"  # equivalent to setattr(a, \"dog\", \"Vau\")"
   ]
  },
  {
   "cell_type": "markdown",
   "metadata": {},
   "source": [
    "deleting an attribute"
   ]
  },
  {
   "cell_type": "code",
   "execution_count": 41,
   "metadata": {},
   "outputs": [
    {
     "name": "stdout",
     "output_type": "stream",
     "text": [
      "You wish\n"
     ]
    }
   ],
   "source": [
    "del a.dog  # equivalent to delattr(a, \"dog\")"
   ]
  },
  {
   "cell_type": "markdown",
   "metadata": {},
   "source": [
    "## Dictionary-like behavior can be achieved by overloading []\n",
    "\n",
    "We also define `__iter__` to support iteration."
   ]
  },
  {
   "cell_type": "code",
   "execution_count": 42,
   "metadata": {},
   "outputs": [
    {
     "name": "stdout",
     "output_type": "stream",
     "text": [
      "Setting a to 1\n",
      "Setting b to 2\n",
      "a\n",
      "b\n"
     ]
    }
   ],
   "source": [
    "class DictLike(object):\n",
    "    def __init__(self):\n",
    "        self.d = {}\n",
    "        \n",
    "    def __setitem__(self, item, value):\n",
    "        print(\"Setting {} to {}\".format(item, value))\n",
    "        self.d[item] = value\n",
    "        \n",
    "    def __getitem__(self, item):\n",
    "        print(\"Getting {}\".format(item))\n",
    "        return self.d.get(item, None)\n",
    "    \n",
    "    def __iter__(self):\n",
    "        return iter(self.d)\n",
    "    \n",
    "d = DictLike()\n",
    "d[\"a\"] = 1\n",
    "d[\"b\"] = 2\n",
    "\n",
    "for k in d:\n",
    "    print(k)    "
   ]
  },
  {
   "cell_type": "markdown",
   "metadata": {
    "slideshow": {
     "slide_type": "slide"
    }
   },
   "source": [
    "## Shallow copy vs. deep copy\n",
    "\n",
    "There are 3 types of assignment and copying:\n",
    "\n",
    "1. the assignment operator (=) creates a new reference to the same object,\n",
    "1. `copy` performs shallow copy,\n",
    "1. `deepcopy` recursively deepcopies everything.\n",
    "\n",
    "The difference between shallow and deep copy is only relevant for compound objects."
   ]
  },
  {
   "cell_type": "markdown",
   "metadata": {
    "slideshow": {
     "slide_type": "subslide"
    }
   },
   "source": [
    "### Assignment operator"
   ]
  },
  {
   "cell_type": "code",
   "execution_count": 43,
   "metadata": {},
   "outputs": [
    {
     "data": {
      "text/plain": [
       "True"
      ]
     },
     "execution_count": 43,
     "metadata": {},
     "output_type": "execute_result"
    }
   ],
   "source": [
    "l1 = [[1, 2], [3, 4, 5]]\n",
    "l2 = l1\n",
    "id(l1[0]) == id(l2[0])"
   ]
  },
  {
   "cell_type": "code",
   "execution_count": 44,
   "metadata": {},
   "outputs": [
    {
     "data": {
      "text/plain": [
       "[[10, 2], [3, 4, 5]]"
      ]
     },
     "execution_count": 44,
     "metadata": {},
     "output_type": "execute_result"
    }
   ],
   "source": [
    "l1[0][0] = 10\n",
    "l2"
   ]
  },
  {
   "cell_type": "markdown",
   "metadata": {
    "slideshow": {
     "slide_type": "subslide"
    }
   },
   "source": [
    "### Shallow copy"
   ]
  },
  {
   "cell_type": "code",
   "execution_count": 45,
   "metadata": {},
   "outputs": [
    {
     "data": {
      "text/plain": [
       "(False, True)"
      ]
     },
     "execution_count": 45,
     "metadata": {},
     "output_type": "execute_result"
    }
   ],
   "source": [
    "from copy import copy\n",
    "\n",
    "l1 = [[1, 2], [3, 4, 5]]\n",
    "l2 = copy(l1)\n",
    "id(l1) == id(l2), id(l1[0]) == id(l2[0])"
   ]
  },
  {
   "cell_type": "code",
   "execution_count": 46,
   "metadata": {},
   "outputs": [
    {
     "data": {
      "text/plain": [
       "[[10, 2], [3, 4, 5]]"
      ]
     },
     "execution_count": 46,
     "metadata": {},
     "output_type": "execute_result"
    }
   ],
   "source": [
    "l1[0][0] = 10\n",
    "l2"
   ]
  },
  {
   "cell_type": "markdown",
   "metadata": {
    "slideshow": {
     "slide_type": "subslide"
    }
   },
   "source": [
    "### Deep copy"
   ]
  },
  {
   "cell_type": "code",
   "execution_count": 47,
   "metadata": {},
   "outputs": [
    {
     "data": {
      "text/plain": [
       "(False, False)"
      ]
     },
     "execution_count": 47,
     "metadata": {},
     "output_type": "execute_result"
    }
   ],
   "source": [
    "from copy import deepcopy\n",
    "\n",
    "l1 = [[1, 2], [3, 4, 5]]\n",
    "l2 = deepcopy(l1)\n",
    "id(l1) == id(l2), id(l1[0]) == id(l2[0])"
   ]
  },
  {
   "cell_type": "code",
   "execution_count": 48,
   "metadata": {},
   "outputs": [
    {
     "data": {
      "text/plain": [
       "[[1, 2], [3, 4, 5]]"
      ]
     },
     "execution_count": 48,
     "metadata": {},
     "output_type": "execute_result"
    }
   ],
   "source": [
    "l1[0][0] = 10\n",
    "l2"
   ]
  },
  {
   "cell_type": "markdown",
   "metadata": {
    "slideshow": {
     "slide_type": "subslide"
    }
   },
   "source": [
    "### Both can be defined via magic methods\n",
    "\n",
    "- note that these implementations do not check for infinite loops"
   ]
  },
  {
   "cell_type": "code",
   "execution_count": 49,
   "metadata": {
    "slideshow": {
     "slide_type": "subslide"
    }
   },
   "outputs": [
    {
     "name": "stdout",
     "output_type": "stream",
     "text": [
      "ListOfLists copy called\n",
      "[[12, 2], [3, 4, 5]]\n",
      "ListOfLists deepcopy called\n"
     ]
    }
   ],
   "source": [
    "from copy import copy, deepcopy\n",
    "\n",
    "class ListOfLists(object):\n",
    "    def __init__(self, lists):\n",
    "        self.lists = lists\n",
    "        self.list_lengths = [len(l) for l in self.lists]\n",
    "        \n",
    "    def __copy__(self):\n",
    "        print(\"ListOfLists copy called\")\n",
    "        return ListOfLists(self.lists)\n",
    "        \n",
    "    def __deepcopy__(self, memo):\n",
    "        print(\"ListOfLists deepcopy called\")\n",
    "        return ListOfLists(deepcopy(self.lists))\n",
    "        \n",
    "l1 = ListOfLists([[1, 2], [3, 4, 5]])\n",
    "l2 = copy(l1)\n",
    "l1.lists[0][0] = 12\n",
    "print(l2.lists)\n",
    "l3 = deepcopy(l1)"
   ]
  },
  {
   "cell_type": "markdown",
   "metadata": {
    "slideshow": {
     "slide_type": "fragment"
    }
   },
   "source": [
    "However, these are very far from complete implementations. We need to take care of preventing infinite loops and support for pickling (serialization module)."
   ]
  },
  {
   "cell_type": "markdown",
   "metadata": {
    "slideshow": {
     "slide_type": "skip"
    }
   },
   "source": [
    "## Object creation and destruction: the `__new__` and the `__del__` method\n",
    "\n",
    "The `__new__` method is called to create a new instance of a class. `__new__` is a static method that takes the class object as a first parameter.\n",
    "\n",
    "Typical implementations create a new instance of the class by invoking the superclass’s `__new__()` method using `super(currentclass, cls).__new__(cls[, ...])` with appropriate arguments and then modifying the newly-created instance as necessary before returning it.\n",
    "\n",
    "`__new__` has to return an instance of `cls`, on which `__init__` is called.\n",
    "\n",
    "The `__del__` method is called when an object is about to be destroyed.\n",
    "Although technically a destructor, it is handled by the garbage collector.\n",
    "It is not guaranteed that `__del__()` methods are called for objects that still exist when the interpreter exits."
   ]
  },
  {
   "cell_type": "code",
   "execution_count": 50,
   "metadata": {
    "slideshow": {
     "slide_type": "skip"
    }
   },
   "outputs": [
    {
     "name": "stdout",
     "output_type": "stream",
     "text": [
      "A.__new__ called\n",
      "A.__init__ called\n",
      "A.__del__ called\n",
      "parent class does not have a __del__ method\n"
     ]
    }
   ],
   "source": [
    "class A(object):\n",
    "    \n",
    "    @classmethod\n",
    "    def __new__(cls, *args, **kwargs):\n",
    "        instance = super().__new__(cls)\n",
    "        print(\"A.__new__ called\")\n",
    "        return instance\n",
    "    \n",
    "    def __init__(self):\n",
    "        print(\"A.__init__ called\")\n",
    "        \n",
    "    def __del__(self):\n",
    "        print(\"A.__del__ called\")\n",
    "        try:\n",
    "            super(A, self).__del__()\n",
    "        except AttributeError:\n",
    "            print(\"parent class does not have a __del__ method\")\n",
    "        \n",
    "        \n",
    "a = A()\n",
    "del a"
   ]
  },
  {
   "cell_type": "markdown",
   "metadata": {
    "slideshow": {
     "slide_type": "slide"
    }
   },
   "source": [
    "## Object introspection\n",
    "\n",
    "- support for full object introspection\n",
    "- **dir** lists every attribute of an object"
   ]
  },
  {
   "cell_type": "code",
   "execution_count": 51,
   "metadata": {},
   "outputs": [
    {
     "data": {
      "text/plain": [
       "'__class__, __delattr__, __dict__, __dir__, __doc__, __eq__, __format__, __ge__, __getattribute__, __gt__, __hash__, __init__, __init_subclass__, __le__, __lt__, __module__, __ne__, __new__, __reduce__, __reduce_ex__, __repr__, __setattr__, __sizeof__, __str__, __subclasshook__, __weakref__, foo, var'"
      ]
     },
     "execution_count": 51,
     "metadata": {},
     "output_type": "execute_result"
    }
   ],
   "source": [
    "class A(object):\n",
    "    var = 12\n",
    "    def __init__(self, value):\n",
    "        self.value = value\n",
    "        \n",
    "    def foo(self):\n",
    "        print(\"bar\")\n",
    "  \n",
    "\", \".join(dir(A))"
   ]
  },
  {
   "cell_type": "markdown",
   "metadata": {
    "slideshow": {
     "slide_type": "fragment"
    }
   },
   "source": [
    "Class A does not have a value attribute, since it is bounded to an instance. However, it does have the class global var attribute."
   ]
  },
  {
   "cell_type": "markdown",
   "metadata": {
    "slideshow": {
     "slide_type": "subslide"
    }
   },
   "source": [
    "An instance of A has both:"
   ]
  },
  {
   "cell_type": "code",
   "execution_count": 52,
   "metadata": {},
   "outputs": [
    {
     "data": {
      "text/plain": [
       "'__class__, __delattr__, __dict__, __dir__, __doc__, __eq__, __format__, __ge__, __getattribute__, __gt__, __hash__, __init__, __init_subclass__, __le__, __lt__, __module__, __ne__, __new__, __reduce__, __reduce_ex__, __repr__, __setattr__, __sizeof__, __str__, __subclasshook__, __weakref__, foo, value, var'"
      ]
     },
     "execution_count": 52,
     "metadata": {},
     "output_type": "execute_result"
    }
   ],
   "source": [
    "\", \".join(dir(A(12)))"
   ]
  },
  {
   "cell_type": "markdown",
   "metadata": {
    "slideshow": {
     "slide_type": "subslide"
    }
   },
   "source": [
    "## `isinstance`, `issubclass`"
   ]
  },
  {
   "cell_type": "code",
   "execution_count": 53,
   "metadata": {},
   "outputs": [
    {
     "name": "stdout",
     "output_type": "stream",
     "text": [
      "True\n",
      "False\n",
      "True\n",
      "True\n"
     ]
    }
   ],
   "source": [
    "class A(object):\n",
    "    pass\n",
    "\n",
    "class B(A):\n",
    "    pass\n",
    "\n",
    "b = B()\n",
    "a = A()\n",
    "\n",
    "print(isinstance(a, A))\n",
    "print(isinstance(a, B))\n",
    "print(isinstance(b, A))\n",
    "print(isinstance(b, object))"
   ]
  },
  {
   "cell_type": "markdown",
   "metadata": {
    "collapsed": true,
    "slideshow": {
     "slide_type": "skip"
    }
   },
   "source": [
    "Every object has a \\_\\_code\\_\\_ attribute, which contains everything needed to call the function."
   ]
  },
  {
   "cell_type": "code",
   "execution_count": 54,
   "metadata": {
    "slideshow": {
     "slide_type": "skip"
    }
   },
   "outputs": [
    {
     "name": "stdout",
     "output_type": "stream",
     "text": [
      "<code object evaluate at 0x7f986c152540, file \"<ipython-input-54-e5dc2d2bcdd5>\", line 1>\n"
     ]
    }
   ],
   "source": [
    "def evaluate(x):\n",
    "    a = 12\n",
    "    b = 3\n",
    "    return a*x + b\n",
    "    \n",
    "print(evaluate.__code__)\n",
    "#dir(evaluate.__code__)"
   ]
  },
  {
   "cell_type": "code",
   "execution_count": 55,
   "metadata": {
    "slideshow": {
     "slide_type": "skip"
    }
   },
   "outputs": [
    {
     "data": {
      "text/plain": [
       "(('x', 'a', 'b'), (), 2)"
      ]
     },
     "execution_count": 55,
     "metadata": {},
     "output_type": "execute_result"
    }
   ],
   "source": [
    "evaluate.__code__.co_varnames, evaluate.__code__.co_freevars, evaluate.__code__.co_stacksize"
   ]
  },
  {
   "cell_type": "markdown",
   "metadata": {
    "slideshow": {
     "slide_type": "skip"
    }
   },
   "source": [
    "The **inspect** module provides further code introspection tools, including the **getsourcelines** function, which returns the source code itself."
   ]
  },
  {
   "cell_type": "code",
   "execution_count": 56,
   "metadata": {
    "slideshow": {
     "slide_type": "skip"
    }
   },
   "outputs": [
    {
     "data": {
      "text/plain": [
       "(['def evaluate(x):\\n', '    a = 12\\n', '    b = 3\\n', '    return a*x + b\\n'],\n",
       " 1)"
      ]
     },
     "execution_count": 56,
     "metadata": {},
     "output_type": "execute_result"
    }
   ],
   "source": [
    "from inspect import getsourcelines\n",
    "\n",
    "getsourcelines(evaluate)"
   ]
  },
  {
   "cell_type": "markdown",
   "metadata": {
    "slideshow": {
     "slide_type": "slide"
    }
   },
   "source": [
    "# Class decorators\n",
    "\n",
    "Many OO features are achieved via a syntax sugar called decorators. We will talk about decorators in detail later.\n",
    "\n",
    "The most common features are:\n",
    "\n",
    "1. staticmethod,\n",
    "1. classmethod,\n",
    "1. property."
   ]
  },
  {
   "cell_type": "markdown",
   "metadata": {
    "slideshow": {
     "slide_type": "slide"
    }
   },
   "source": [
    "## Static methods\n",
    "\n",
    "- defined inside a class but not bound to an instance (no self parameter)\n",
    "- analogous to C++'s static methods"
   ]
  },
  {
   "cell_type": "code",
   "execution_count": 57,
   "metadata": {},
   "outputs": [
    {
     "name": "stdout",
     "output_type": "stream",
     "text": [
      "1\n",
      "2\n"
     ]
    }
   ],
   "source": [
    "class A(object):\n",
    "    instance_count = 0\n",
    "    \n",
    "    def __init__(self, value=42):\n",
    "        self.value = value\n",
    "        A.increase_instance_count()\n",
    "        \n",
    "    @staticmethod\n",
    "    def increase_instance_count():\n",
    "        A.instance_count += 1\n",
    "        \n",
    "        \n",
    "a1 = A()\n",
    "print(A.instance_count)\n",
    "a2 = A()\n",
    "print(A.instance_count)"
   ]
  },
  {
   "cell_type": "markdown",
   "metadata": {
    "slideshow": {
     "slide_type": "slide"
    }
   },
   "source": [
    "## Class methods\n",
    "\n",
    "- bound to the class instead of an instance of the class\n",
    "- first argument is a class instance\n",
    "  - called `cls` by convention\n",
    "- typical usage: factory methods for the class\n",
    "\n",
    "Let's create a Complex class that can be initialized with either a string such as \"5+j6\" or with two numbers."
   ]
  },
  {
   "cell_type": "code",
   "execution_count": 58,
   "metadata": {
    "slideshow": {
     "slide_type": "subslide"
    }
   },
   "outputs": [
    {
     "name": "stdout",
     "output_type": "stream",
     "text": [
      "Instantiating Complex\n",
      "3.45+j2.0\n",
      "3+j4\n",
      "Instantiating ChildComplex\n"
     ]
    }
   ],
   "source": [
    "class Complex(object):\n",
    "    def __init__(self, real, imag):\n",
    "        self.real = real\n",
    "        self.imag = imag\n",
    "        \n",
    "    def __str__(self):\n",
    "        return '{0}+j{1}'.format(self.real, self.imag)\n",
    "    \n",
    "    @classmethod\n",
    "    def from_str(cls, complex_str):\n",
    "        real, imag = complex_str.split('+')\n",
    "        imag = imag.lstrip('ij')\n",
    "        print(\"Instantiating {}\".format(cls.__name__))\n",
    "        return cls(float(real), float(imag))\n",
    "\n",
    "class ChildComplex(Complex): pass\n",
    "\n",
    "c1 = Complex.from_str(\"3.45+j2\")\n",
    "print(c1)\n",
    "c2 = Complex(3, 4)\n",
    "print(c2)\n",
    "c1 = ChildComplex.from_str(\"3.45+j2\")"
   ]
  },
  {
   "cell_type": "markdown",
   "metadata": {
    "slideshow": {
     "slide_type": "slide"
    }
   },
   "source": [
    "## Properties\n",
    "\n",
    "- attributes with getters, setters and deleters\n",
    "\n",
    "Properties are attributes with getters, setters and deleters. Property works as both a built-in function and as separate decorators."
   ]
  },
  {
   "cell_type": "code",
   "execution_count": 59,
   "metadata": {
    "slideshow": {
     "slide_type": "subslide"
    }
   },
   "outputs": [
    {
     "name": "stdout",
     "output_type": "stream",
     "text": [
      "Name: John, age: 12\n",
      "Name: John, age: 12\n",
      "Name: John, age: 85\n"
     ]
    }
   ],
   "source": [
    "class Person(object):\n",
    "    def __init__(self, name, age):\n",
    "        self.name = name\n",
    "        self.age = age\n",
    "        \n",
    "    @property\n",
    "    def age(self):\n",
    "        return self._age\n",
    "    \n",
    "    @age.setter\n",
    "    def age(self, age):\n",
    "        try:\n",
    "            if 0 <= age <= 150:\n",
    "                self._age = age\n",
    "        except TypeError:\n",
    "            pass\n",
    "            \n",
    "    def __str__(self):\n",
    "        return \"Name: {0}, age: {1}\".format(self.name, self.age)\n",
    "            \n",
    "\n",
    "p = Person(\"John\", 12)\n",
    "print(p)\n",
    "p.age = \"abc\"\n",
    "print(p)\n",
    "p.age = 85\n",
    "print(p)"
   ]
  },
  {
   "cell_type": "code",
   "execution_count": 60,
   "metadata": {},
   "outputs": [
    {
     "data": {
      "text/plain": [
       "'__class__,__delattr__,__dict__,__dir__,__doc__,__eq__,__format__,__ge__,__getattribute__,__gt__,__hash__,__init__,__init_subclass__,__le__,__lt__,__module__,__ne__,__new__,__reduce__,__reduce_ex__,__repr__,__setattr__,__sizeof__,__str__,__subclasshook__,__weakref__,_age,age,name'"
      ]
     },
     "execution_count": 60,
     "metadata": {},
     "output_type": "execute_result"
    }
   ],
   "source": [
    "p = Person(\"Pete\", 17)\n",
    "\",\".join(dir(p))"
   ]
  },
  {
   "cell_type": "markdown",
   "metadata": {
    "slideshow": {
     "slide_type": "slide"
    }
   },
   "source": [
    "# Multiple inheritance\n",
    "\n",
    "- no interface inheritance in Python\n",
    "- since every class subclasses `object`, the diamond problem is present\n",
    "- method resolution order (MRO) defines the way methods are inherited\n",
    "  - very different between old and new style classes"
   ]
  },
  {
   "cell_type": "code",
   "execution_count": 61,
   "metadata": {
    "slideshow": {
     "slide_type": "subslide"
    }
   },
   "outputs": [
    {
     "name": "stdout",
     "output_type": "stream",
     "text": [
      "Instantiating C\n",
      "C init called\n",
      "A init called\n",
      "Instantiating D\n",
      "B init called\n"
     ]
    }
   ],
   "source": [
    "class A(object):\n",
    "    def __init__(self, value):\n",
    "        print(\"A init called\")\n",
    "        self.value = value\n",
    "        \n",
    "class B(object):\n",
    "    def __init__(self):\n",
    "        print(\"B init called\")\n",
    "\n",
    "class C(A, B):\n",
    "    def __init__(self, value1, value2):\n",
    "        print(\"C init called\")\n",
    "        self.value2 = value2\n",
    "        super(C, self).__init__(value1)\n",
    "        \n",
    "class D(B, A): pass\n",
    "        \n",
    "print(\"Instantiating C\")\n",
    "c = C(1, 2)\n",
    "print(\"Instantiating D\")\n",
    "d = D()"
   ]
  },
  {
   "cell_type": "markdown",
   "metadata": {
    "slideshow": {
     "slide_type": "subslide"
    }
   },
   "source": [
    "# See also\n",
    "\n",
    "* [Classes (official documentation)](https://docs.python.org/2/tutorial/classes.html)\n",
    "* [Data model (official documentation)](https://docs.python.org/2/reference/datamodel.html)\n",
    "* [Method resolution order (since Python 2.3)](https://www.python.org/download/releases/2.3/mro/)"
   ]
  }
 ],
 "metadata": {
  "celltoolbar": "Slideshow",
  "kernelspec": {
   "display_name": "Python 3",
   "language": "python",
   "name": "python3"
  },
  "language_info": {
   "codemirror_mode": {
    "name": "ipython",
    "version": 3
   },
   "file_extension": ".py",
   "mimetype": "text/x-python",
   "name": "python",
   "nbconvert_exporter": "python",
   "pygments_lexer": "ipython3",
   "version": "3.6.2"
  }
 },
 "nbformat": 4,
 "nbformat_minor": 1
}
