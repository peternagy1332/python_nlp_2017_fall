{
 "cells": [
  {
   "cell_type": "markdown",
   "metadata": {},
   "source": [
    "# Laboratory 04, Week 05\n",
    "\n",
    "## 1. `RationalNumber` class\n",
    "\n",
    "Write a class that represents a rational number. A number is rational if it is can be expressed as the quotient of two integers (p and q). Define the operators seen in the tests below.\n",
    "\n",
    "Make sure that p and q are always relative primes (you can use `math.gcd`)."
   ]
  },
  {
   "cell_type": "code",
   "execution_count": 146,
   "metadata": {},
   "outputs": [],
   "source": [
    "from math import gcd\n",
    "\n",
    "\n",
    "class RationalNumber(object):\n",
    "    # TODO\n",
    "    \n",
    "        \n",
    "r = RationalNumber(43, 2)\n",
    "assert r + r == RationalNumber(43)  # q = 1 in this case\n",
    "\n",
    "assert r * 2 == r + r\n",
    "\n",
    "r1 = RationalNumber(3, 2)\n",
    "r2 = RationalNumber(4, 3)\n",
    "\n",
    "assert r1 * r2 == RationalNumber(12, 6)\n",
    "assert r1 / r2 == RationalNumber(9, 8)\n",
    "\n",
    "assert r1 == RationalNumber(6, 4)"
   ]
  },
  {
   "cell_type": "markdown",
   "metadata": {},
   "source": [
    "### RationalNumber advanced exercises\n",
    "\n",
    "Make the class usable as a dictionary key."
   ]
  },
  {
   "cell_type": "code",
   "execution_count": null,
   "metadata": {},
   "outputs": [],
   "source": [
    "r1 = RationalNumber(3)\n",
    "r2 = RationalNumber(3, 1)\n",
    "r3 = RationalNumber(3, 2)\n",
    "\n",
    "d = {r1: 1, r2: 2, r3: 12}\n",
    "assert(len(d) == 2)"
   ]
  },
  {
   "cell_type": "markdown",
   "metadata": {},
   "source": [
    "`p` and `q` can only be integers. Raise a `RationalNumberValueError` if someone tries to set them to anything else."
   ]
  },
  {
   "cell_type": "code",
   "execution_count": null,
   "metadata": {},
   "outputs": [],
   "source": [
    "try:\n",
    "    r1.p = 3.4\n",
    "except RationalNumberValueError:\n",
    "    print(\"This should happen\")\n",
    "else:\n",
    "    print(\"This shouldn't happen\")\n",
    "    \n",
    "try:\n",
    "    r1.q = 3.4\n",
    "except ValueError:\n",
    "    print(\"This should happen\")\n",
    "else:\n",
    "    print(\"This shouldn't happen\")"
   ]
  },
  {
   "cell_type": "markdown",
   "metadata": {},
   "source": [
    "Rational numbers may be negative. Make sure that `q` is never negative."
   ]
  },
  {
   "cell_type": "code",
   "execution_count": null,
   "metadata": {},
   "outputs": [],
   "source": [
    "r = RationalNumber(3, -2)\n",
    "assert r.p == -3 and r.q == 2\n",
    "assert abs(r) == 1.5"
   ]
  },
  {
   "cell_type": "markdown",
   "metadata": {},
   "source": [
    "Add a `from_str` factory method which parses the following formats:"
   ]
  },
  {
   "cell_type": "code",
   "execution_count": null,
   "metadata": {},
   "outputs": [],
   "source": [
    "r = RationalNumber(-3, 2)\n",
    "\n",
    "assert RationalNumber.from_str(\"-3/2\") == r\n",
    "assert RationalNumber.from_str(\"3/-2\") == r\n",
    "assert RationalNumber.from_str(\"3 / -2\") == r"
   ]
  },
  {
   "cell_type": "markdown",
   "metadata": {},
   "source": [
    "## 2. Comprehension\n",
    "\n",
    "Convert the following for loops into comprehensions:"
   ]
  },
  {
   "cell_type": "code",
   "execution_count": 1,
   "metadata": {},
   "outputs": [],
   "source": [
    "l = []\n",
    "for i in range(-5, 10, 2):\n",
    "    l.append(i-2)"
   ]
  },
  {
   "cell_type": "code",
   "execution_count": 2,
   "metadata": {},
   "outputs": [
    {
     "data": {
      "text/plain": [
       "[-7, -5, -3, -1, 1, 3, 5, 7]"
      ]
     },
     "execution_count": 2,
     "metadata": {},
     "output_type": "execute_result"
    }
   ],
   "source": [
    "[i-2 for i in range(-5, 10, 2)]"
   ]
  },
  {
   "cell_type": "code",
   "execution_count": 3,
   "metadata": {},
   "outputs": [],
   "source": [
    "l = []\n",
    "for i in range(100):\n",
    "    if i % 10 == 4:\n",
    "        l.append(i)"
   ]
  },
  {
   "cell_type": "code",
   "execution_count": 4,
   "metadata": {},
   "outputs": [
    {
     "data": {
      "text/plain": [
       "[0,\n",
       " 4,\n",
       " 8,\n",
       " 12,\n",
       " 16,\n",
       " 20,\n",
       " 24,\n",
       " 28,\n",
       " 32,\n",
       " 36,\n",
       " 40,\n",
       " 44,\n",
       " 48,\n",
       " 52,\n",
       " 56,\n",
       " 60,\n",
       " 64,\n",
       " 68,\n",
       " 72,\n",
       " 76,\n",
       " 80,\n",
       " 84,\n",
       " 88,\n",
       " 92,\n",
       " 96]"
      ]
     },
     "execution_count": 4,
     "metadata": {},
     "output_type": "execute_result"
    }
   ],
   "source": [
    "[i for i in range(100) if i % 4 == 0]"
   ]
  },
  {
   "cell_type": "code",
   "execution_count": 5,
   "metadata": {},
   "outputs": [],
   "source": [
    "l1 = [12, 1, 0, 13, -3, -4, 0, 2]\n",
    "l2 = []\n",
    "\n",
    "for e in l1:\n",
    "    if e % 2 == 1:\n",
    "        l2.append(e)"
   ]
  },
  {
   "cell_type": "code",
   "execution_count": 6,
   "metadata": {},
   "outputs": [
    {
     "data": {
      "text/plain": [
       "[1, 13, -3]"
      ]
     },
     "execution_count": 6,
     "metadata": {},
     "output_type": "execute_result"
    }
   ],
   "source": [
    "[e for e in l2 if e % 2 == 1]"
   ]
  },
  {
   "cell_type": "code",
   "execution_count": 7,
   "metadata": {},
   "outputs": [],
   "source": [
    "l1 = [12, 1, 0, 13, -3, -4, 0, 2]\n",
    "l2 = []\n",
    "\n",
    "for e in l1:\n",
    "    if e % 2 == 1:\n",
    "        l2.append(True)\n",
    "    else:\n",
    "        l2.append(False)"
   ]
  },
  {
   "cell_type": "code",
   "execution_count": 8,
   "metadata": {},
   "outputs": [
    {
     "data": {
      "text/plain": [
       "[False, True, False, True, True, False, False, False]"
      ]
     },
     "execution_count": 8,
     "metadata": {},
     "output_type": "execute_result"
    }
   ],
   "source": [
    "[e % 2 == 1 for e in l1]"
   ]
  },
  {
   "cell_type": "code",
   "execution_count": 9,
   "metadata": {},
   "outputs": [
    {
     "data": {
      "text/plain": [
       "[6,\n",
       " 12,\n",
       " 18,\n",
       " 24,\n",
       " 30,\n",
       " 10,\n",
       " 20,\n",
       " 30,\n",
       " 40,\n",
       " 50,\n",
       " 34,\n",
       " 68,\n",
       " 102,\n",
       " 136,\n",
       " 170,\n",
       " 38,\n",
       " 76,\n",
       " 114,\n",
       " 152,\n",
       " 190]"
      ]
     },
     "execution_count": 9,
     "metadata": {},
     "output_type": "execute_result"
    }
   ],
   "source": [
    "l1 = [3, 5, 17, 19]\n",
    "l2 = [2, 4, 6, 8, 10]\n",
    "\n",
    "products = []\n",
    "\n",
    "for x in l1:\n",
    "    for y in l2:\n",
    "        products.append(x*y)\n",
    "products"
   ]
  },
  {
   "cell_type": "code",
   "execution_count": 10,
   "metadata": {},
   "outputs": [
    {
     "data": {
      "text/plain": [
       "[6,\n",
       " 12,\n",
       " 18,\n",
       " 24,\n",
       " 30,\n",
       " 10,\n",
       " 20,\n",
       " 30,\n",
       " 40,\n",
       " 50,\n",
       " 34,\n",
       " 68,\n",
       " 102,\n",
       " 136,\n",
       " 170,\n",
       " 38,\n",
       " 76,\n",
       " 114,\n",
       " 152,\n",
       " 190]"
      ]
     },
     "execution_count": 10,
     "metadata": {},
     "output_type": "execute_result"
    }
   ],
   "source": [
    "[x*y for x in l1 for y in l2]"
   ]
  },
  {
   "cell_type": "code",
   "execution_count": 11,
   "metadata": {},
   "outputs": [],
   "source": [
    "l1 = [3, 5, 7, 19]\n",
    "l2 = [2, 4, 6, 8, 10]\n",
    "\n",
    "products = []\n",
    "\n",
    "for x in l1:\n",
    "    for y in l2:\n",
    "        if (x + y) % 3 == 0:\n",
    "            products.append(x*y)"
   ]
  },
  {
   "cell_type": "code",
   "execution_count": 12,
   "metadata": {},
   "outputs": [
    {
     "data": {
      "text/plain": [
       "[18, 20, 50, 14, 56, 38, 152]"
      ]
     },
     "execution_count": 12,
     "metadata": {},
     "output_type": "execute_result"
    }
   ],
   "source": [
    "[x*y for x in l1 for y in l2 if (x+y) % 3 == 0]"
   ]
  },
  {
   "cell_type": "code",
   "execution_count": 13,
   "metadata": {},
   "outputs": [
    {
     "data": {
      "text/plain": [
       "[['a', 'pp', 'ppp', 'llll', 'eeeee'],\n",
       " ['p', 'll', 'uuu', 'mmmm'],\n",
       " ['p', 'ee', 'aaa', 'rrrr'],\n",
       " ['a', 'vv', 'ooo', 'cccc', 'aaaaa', 'dddddd', 'ooooooo']]"
      ]
     },
     "execution_count": 13,
     "metadata": {},
     "output_type": "execute_result"
    }
   ],
   "source": [
    "fruits = [\"apple\", \"plum\", \"pear\", \"avocado\"]\n",
    "\n",
    "mtx = []\n",
    "for fruit in fruits:\n",
    "    row = []\n",
    "    for i, c in enumerate(fruit):\n",
    "        row.append(c*(i+1))\n",
    "    mtx.append(row)\n",
    "    \n",
    "mtx"
   ]
  },
  {
   "cell_type": "code",
   "execution_count": 14,
   "metadata": {},
   "outputs": [
    {
     "data": {
      "text/plain": [
       "[['a', 'pp', 'ppp', 'llll', 'eeeee'],\n",
       " ['p', 'll', 'uuu', 'mmmm'],\n",
       " ['p', 'ee', 'aaa', 'rrrr'],\n",
       " ['a', 'vv', 'ooo', 'cccc', 'aaaaa', 'dddddd', 'ooooooo']]"
      ]
     },
     "execution_count": 14,
     "metadata": {},
     "output_type": "execute_result"
    }
   ],
   "source": [
    "[[c*(i+1) for i, c in enumerate(row)] for row in fruits]"
   ]
  },
  {
   "cell_type": "code",
   "execution_count": 15,
   "metadata": {},
   "outputs": [
    {
     "data": {
      "text/plain": [
       "{'a': 5, 'b': 3, 'c': 1, 'd': 2, 's': 1}"
      ]
     },
     "execution_count": 15,
     "metadata": {},
     "output_type": "execute_result"
    }
   ],
   "source": [
    "text = \"ababaacdsadb\"\n",
    "\n",
    "char_freqs = {}\n",
    "\n",
    "for c in text:\n",
    "    try:\n",
    "        char_freqs[c] += 1\n",
    "    except KeyError:\n",
    "        char_freqs[c] = 1\n",
    "        \n",
    "char_freqs"
   ]
  },
  {
   "cell_type": "code",
   "execution_count": 16,
   "metadata": {},
   "outputs": [
    {
     "data": {
      "text/plain": [
       "{'a': 5, 'b': 3, 'c': 1, 'd': 2, 's': 1}"
      ]
     },
     "execution_count": 16,
     "metadata": {},
     "output_type": "execute_result"
    }
   ],
   "source": [
    "{c: text.count(c) for c in set(text)}"
   ]
  },
  {
   "cell_type": "code",
   "execution_count": 17,
   "metadata": {},
   "outputs": [
    {
     "data": {
      "text/plain": [
       "{'a': 2, 'b': 3, 'c': 2}"
      ]
     },
     "execution_count": 17,
     "metadata": {},
     "output_type": "execute_result"
    }
   ],
   "source": [
    "d1 = {\"a\": 1, \"b\": 3, \"c\": 2}\n",
    "d2 = {\"a\": 2, \"b\": 1}\n",
    "\n",
    "d3 = {}\n",
    "\n",
    "for key in set(d1.keys()) | set(d2.keys()):\n",
    "    max_val = max(d1.get(key, 0), d2.get(key, 0))\n",
    "    d3[key] = max_val\n",
    "\n",
    "d3"
   ]
  },
  {
   "cell_type": "code",
   "execution_count": 18,
   "metadata": {},
   "outputs": [
    {
     "data": {
      "text/plain": [
       "{'a': 2, 'b': 3, 'c': 2}"
      ]
     },
     "execution_count": 18,
     "metadata": {},
     "output_type": "execute_result"
    }
   ],
   "source": [
    "{key: max(d1.get(key, 0), d2.get(key, 0)) for key in set(d1.keys()) | set(d2.keys())}"
   ]
  },
  {
   "cell_type": "markdown",
   "metadata": {},
   "source": [
    "## 3. Generators\n",
    "\n",
    "The following piece of code downloads a small sample of the Hungarian Webcorpus. We will work on this in later exercises.\n",
    "\n",
    "The corpus contains a single word-per-line and sentence boundaries are denoted by empty lines.\n",
    "\n",
    "The file has 4 columns separated by TABs:\n",
    "1. original word\n",
    "2. lemma (stemmed word)\n",
    "3. morphological analysis\n",
    "4. morphological analysis candidates.\n",
    "\n",
    "Take a look at the file before continuing."
   ]
  },
  {
   "cell_type": "code",
   "execution_count": 19,
   "metadata": {},
   "outputs": [],
   "source": [
    "import os\n",
    "import urllib.request\n",
    "\n",
    "fn = 'web2-4p-9-17'\n",
    "zipname = fn + '.zip'\n",
    "\n",
    "if not os.path.exists(zipname):\n",
    "    print(\"Downloading corpus\")\n",
    "    webcorp_url = \"http://avalon.aut.bme.hu/~judit/resources/webcorp_parts/web2-4p-9-17.zip\"\n",
    "    u = urllib.request.URLopener()\n",
    "    u.retrieve(webcorp_url, zipname)\n",
    "\n",
    "if not os.path.exists(fn):\n",
    "    from zipfile import ZipFile\n",
    "    with ZipFile(zipname) as myzip:\n",
    "        myzip.extractall()"
   ]
  },
  {
   "cell_type": "markdown",
   "metadata": {},
   "source": [
    "## 3.1. Write a generator function that yields one sentence at a time as a list of tokens. Make sure to yield the very last sentence of the file as well."
   ]
  },
  {
   "cell_type": "code",
   "execution_count": 20,
   "metadata": {},
   "outputs": [],
   "source": [
    "import types\n",
    "\n",
    "def read_sentences(filename):\n",
    "    sent = []\n",
    "    with open(filename) as corp:\n",
    "        for line in corp:\n",
    "            if not line.strip():\n",
    "                if sent:\n",
    "                    yield sent\n",
    "                sent = []\n",
    "            else:\n",
    "                sent.append(line.split('\\t')[0])\n",
    "    if sent:\n",
    "        yield sent\n",
    "    \n",
    "sentence = next(read_sentences(fn))\n",
    "\n",
    "assert(len(sentence) == 19)\n",
    "assert isinstance(sentence, list)\n",
    "\n",
    "sentences = read_sentences(fn)\n",
    "\n",
    "assert isinstance(sentences, types.GeneratorType)\n",
    "\n",
    "sentences = list(sentences)\n",
    "\n",
    "assert(len(sentences) == 90764)"
   ]
  },
  {
   "cell_type": "markdown",
   "metadata": {},
   "source": [
    "## 3.2 Write a generator function that yields one sentence at a time but skips short sentences. The length limit should be a parameter of the generator which defaults to 5."
   ]
  },
  {
   "cell_type": "code",
   "execution_count": 21,
   "metadata": {},
   "outputs": [],
   "source": [
    "def read_long_sentences(filename, min_length=5):\n",
    "    sent = []\n",
    "    with open(filename) as corp:\n",
    "        for line in corp:\n",
    "            if not line.strip():\n",
    "                if sent:\n",
    "                    if len(sent) >= min_length:\n",
    "                        yield sent\n",
    "                sent = []\n",
    "            else:\n",
    "                sent.append(line.split('\\t')[0])\n",
    "    if sent:\n",
    "        if len(sent) >= min_length:\n",
    "            yield sent\n",
    "    \n",
    "sentences = read_long_sentences(fn)\n",
    "assert isinstance(sentences, types.GeneratorType)\n",
    "\n",
    "sentences = list(sentences)\n",
    "assert len(sentences) == 85163\n",
    "\n",
    "sentences = read_long_sentences(fn, 15)\n",
    "\n",
    "sentences = list(sentences)\n",
    "assert len(sentences) == 50059"
   ]
  },
  {
   "cell_type": "markdown",
   "metadata": {},
   "source": [
    "## 4. Context managers\n",
    "\n",
    "Create a `Timer` context manager that measures the running time of the `with` block. The context manager takes an optional name argument and prints the block's name at the end too. "
   ]
  },
  {
   "cell_type": "code",
   "execution_count": 22,
   "metadata": {},
   "outputs": [
    {
     "name": "stdout",
     "output_type": "stream",
     "text": [
      "slow code ran for 0.004208 seconds\n",
      "unnamed ran for 0.003994 seconds\n"
     ]
    }
   ],
   "source": [
    "from datetime import datetime\n",
    "\n",
    "\n",
    "class Timer(object):\n",
    "    def __init__(self, name=\"unnamed\"):\n",
    "        self.name = name\n",
    "        \n",
    "    def __enter__(self):\n",
    "        self.start = datetime.now()\n",
    "        \n",
    "    def __exit__(self, *args):\n",
    "        duration = datetime.now() - self.start\n",
    "        print(\"{} ran for {} seconds\".format(self.name, duration.total_seconds()))\n",
    "        \n",
    "        \n",
    "# prints \"slow code ran for F seconds\n",
    "# F is the total_seconds the block took to finish (float)\n",
    "with Timer(\"slow code\"):\n",
    "    s = sum(range(100000))\n",
    "    \n",
    "# prints \"unnamed ran for F seconds\n",
    "with Timer():\n",
    "    s = sum(range(100000))"
   ]
  },
  {
   "cell_type": "markdown",
   "metadata": {},
   "source": [
    "## 5. Extra exercise, binary search tree\n",
    "\n",
    "Create a binary search tree for integers. You should implement a `Tree` and a `Node` class.\n",
    "\n",
    "Implement the following:\n",
    "- iteration protocol for the tree. Traversal should be in-order (increasing order).\n",
    "- sum(tree) - sum of all the elements\n",
    "- min(tree), max(tree) - smallest, largest element\n",
    "- len(tree) - number of nodes"
   ]
  },
  {
   "cell_type": "code",
   "execution_count": null,
   "metadata": {},
   "outputs": [],
   "source": []
  }
 ],
 "metadata": {
  "kernelspec": {
   "display_name": "Python 3",
   "language": "python",
   "name": "python3"
  },
  "language_info": {
   "codemirror_mode": {
    "name": "ipython",
    "version": 3
   },
   "file_extension": ".py",
   "mimetype": "text/x-python",
   "name": "python",
   "nbconvert_exporter": "python",
   "pygments_lexer": "ipython3",
   "version": "3.6.2"
  }
 },
 "nbformat": 4,
 "nbformat_minor": 2
}
