{
 "cells": [
  {
   "cell_type": "markdown",
   "metadata": {
    "slideshow": {
     "slide_type": "slide"
    }
   },
   "source": [
    "# Introduction to Python and Natural Language Technologies\n",
    "\n",
    "# Lecture 5 \n",
    "\n",
    "## Decorators and packaging\n",
    "\n",
    "### 11 October 2017"
   ]
  },
  {
   "cell_type": "markdown",
   "metadata": {
    "slideshow": {
     "slide_type": "slide"
    }
   },
   "source": [
    "## Let's create a greeter function\n",
    "\n",
    "- takes another function as a parameter\n",
    "- greets the caller before calling the function"
   ]
  },
  {
   "cell_type": "code",
   "execution_count": 1,
   "metadata": {
    "slideshow": {
     "slide_type": "fragment"
    }
   },
   "outputs": [
    {
     "name": "stdout",
     "output_type": "stream",
     "text": [
      "Hello\n",
      "Let's learn some Python.\n"
     ]
    }
   ],
   "source": [
    "def greeter(func):\n",
    "    print(\"Hello\")\n",
    "    func()\n",
    "    \n",
    "def say_something():\n",
    "    print(\"Let's learn some Python.\")\n",
    "    \n",
    "greeter(say_something)"
   ]
  },
  {
   "cell_type": "markdown",
   "metadata": {
    "slideshow": {
     "slide_type": "fragment"
    }
   },
   "source": [
    "## Functions are first class objects\n",
    "\n",
    "- they can be passed as arguments\n",
    "- they can be returned from other functions (example later)"
   ]
  },
  {
   "cell_type": "markdown",
   "metadata": {
    "slideshow": {
     "slide_type": "slide"
    }
   },
   "source": [
    "## Let's create a `count_predicate` function\n",
    "\n",
    "- takes a iterable and a predicate (yes-no function)\n",
    "- calls the predicate on each element\n",
    "- counts how many times it returns True\n",
    "- same as `std::count` in C++"
   ]
  },
  {
   "cell_type": "code",
   "execution_count": 2,
   "metadata": {
    "slideshow": {
     "slide_type": "fragment"
    }
   },
   "outputs": [],
   "source": [
    "def count_predicate(predicate, iterable):\n",
    "    true_count = 0\n",
    "    for element in iterable:\n",
    "        if predicate(element) is True:\n",
    "            true_count += 1\n",
    "    return true_count"
   ]
  },
  {
   "cell_type": "markdown",
   "metadata": {
    "slideshow": {
     "slide_type": "fragment"
    }
   },
   "source": [
    "## Q. Can you write this function in fewer lines?"
   ]
  },
  {
   "cell_type": "code",
   "execution_count": 3,
   "metadata": {},
   "outputs": [],
   "source": [
    "def count_predicate(predicate, iterable):\n",
    "    return sum(int(predicate(e)) for e in iterable)\n"
   ]
  },
  {
   "cell_type": "markdown",
   "metadata": {
    "slideshow": {
     "slide_type": "slide"
    }
   },
   "source": [
    "### The predicate parameter\n",
    "\n",
    "- it can be anything 'callable'"
   ]
  },
  {
   "cell_type": "markdown",
   "metadata": {
    "slideshow": {
     "slide_type": "fragment"
    }
   },
   "source": [
    "#### 1. function"
   ]
  },
  {
   "cell_type": "code",
   "execution_count": 4,
   "metadata": {
    "slideshow": {
     "slide_type": "-"
    }
   },
   "outputs": [
    {
     "data": {
      "text/plain": [
       "3"
      ]
     },
     "execution_count": 4,
     "metadata": {},
     "output_type": "execute_result"
    }
   ],
   "source": [
    "def is_even(number):\n",
    "    return number % 2 == 0\n",
    "\n",
    "numbers = [1, 3, 2, -5, 0, 0]\n",
    "\n",
    "count_predicate(is_even, numbers)"
   ]
  },
  {
   "cell_type": "markdown",
   "metadata": {
    "slideshow": {
     "slide_type": "subslide"
    }
   },
   "source": [
    "#### 2. instance of a class that implements `__call__` (functor)"
   ]
  },
  {
   "cell_type": "code",
   "execution_count": 5,
   "metadata": {},
   "outputs": [
    {
     "data": {
      "text/plain": [
       "True"
      ]
     },
     "execution_count": 5,
     "metadata": {},
     "output_type": "execute_result"
    }
   ],
   "source": [
    "class IsEven(object):\n",
    "    def __call__(self, number):\n",
    "        return number % 2 == 0\n",
    "    \n",
    "count_predicate(IsEven(), numbers)\n",
    "\n",
    "IsEven()(123)\n",
    "i = IsEven()\n",
    "i(12)"
   ]
  },
  {
   "cell_type": "markdown",
   "metadata": {
    "slideshow": {
     "slide_type": "fragment"
    }
   },
   "source": [
    "#### 3. lambda expression"
   ]
  },
  {
   "cell_type": "code",
   "execution_count": 6,
   "metadata": {},
   "outputs": [
    {
     "data": {
      "text/plain": [
       "3"
      ]
     },
     "execution_count": 6,
     "metadata": {},
     "output_type": "execute_result"
    }
   ],
   "source": [
    "count_predicate(lambda x: x % 2 == 0, numbers)"
   ]
  },
  {
   "cell_type": "markdown",
   "metadata": {
    "slideshow": {
     "slide_type": "slide"
    }
   },
   "source": [
    "## Functions can be nested"
   ]
  },
  {
   "cell_type": "code",
   "execution_count": 7,
   "metadata": {},
   "outputs": [
    {
     "name": "stdout",
     "output_type": "stream",
     "text": [
      "I'm the parent function\n"
     ]
    }
   ],
   "source": [
    "def parent():\n",
    "    print(\"I'm the parent function\")\n",
    "    \n",
    "    def child():\n",
    "        print(\"I'm the child function\")\n",
    "        \n",
    "parent()"
   ]
  },
  {
   "cell_type": "markdown",
   "metadata": {
    "slideshow": {
     "slide_type": "subslide"
    }
   },
   "source": [
    "the nested function is only accessible from the parent"
   ]
  },
  {
   "cell_type": "code",
   "execution_count": 8,
   "metadata": {},
   "outputs": [
    {
     "name": "stdout",
     "output_type": "stream",
     "text": [
      "I'm the parent function\n",
      "Calling the nested function\n",
      "I'm the child function\n"
     ]
    }
   ],
   "source": [
    "def parent():\n",
    "    print(\"I'm the parent function\")\n",
    "    \n",
    "    def child():\n",
    "        print(\"I'm the child function\")\n",
    "    \n",
    "    print(\"Calling the nested function\")\n",
    "    child()\n",
    "        \n",
    "parent()\n",
    "# parent.child  # raises AttributeError"
   ]
  },
  {
   "cell_type": "markdown",
   "metadata": {
    "slideshow": {
     "slide_type": "slide"
    }
   },
   "source": [
    "## Functions can be return values"
   ]
  },
  {
   "cell_type": "code",
   "execution_count": 9,
   "metadata": {},
   "outputs": [
    {
     "name": "stdout",
     "output_type": "stream",
     "text": [
      "I'm the parent function\n",
      "I'm the child function\n"
     ]
    }
   ],
   "source": [
    "def parent():\n",
    "    print(\"I'm the parent function\")\n",
    "    \n",
    "    def child():\n",
    "        print(\"I'm the child function\")\n",
    "        \n",
    "    return child\n",
    "\n",
    "child_func = parent()\n",
    "\n",
    "child_func()"
   ]
  },
  {
   "cell_type": "markdown",
   "metadata": {
    "slideshow": {
     "slide_type": "slide"
    }
   },
   "source": [
    "## Nested functions have access to the parent's scope\n",
    "\n",
    "closure"
   ]
  },
  {
   "cell_type": "code",
   "execution_count": 10,
   "metadata": {},
   "outputs": [
    {
     "name": "stdout",
     "output_type": "stream",
     "text": [
      "I'm the nested function. The parent's value is 42\n",
      "I'm the nested function. The parent's value is abc\n",
      "I'm the nested function. The parent's value is 123\n"
     ]
    }
   ],
   "source": [
    "def parent(value):\n",
    "    \n",
    "    def child():\n",
    "        print(\"I'm the nested function. \"\n",
    "              \"The parent's value is {}\".format(value))\n",
    "        \n",
    "    return child\n",
    "        \n",
    "child_func = parent(42)\n",
    "\n",
    "child_func()\n",
    "\n",
    "f1 = parent(\"abc\")\n",
    "f2 = parent(123)\n",
    "\n",
    "f1()\n",
    "f2()"
   ]
  },
  {
   "cell_type": "markdown",
   "metadata": {
    "slideshow": {
     "slide_type": "slide"
    }
   },
   "source": [
    "## Function factory"
   ]
  },
  {
   "cell_type": "code",
   "execution_count": 11,
   "metadata": {},
   "outputs": [
    {
     "name": "stdout",
     "output_type": "stream",
     "text": [
      "I'm the nested function. The parent's value is 11\n",
      "I'm the nested function. The parent's value is abc\n"
     ]
    }
   ],
   "source": [
    "def make_func(param):\n",
    "    value = param\n",
    "    \n",
    "    def func():\n",
    "        print(\"I'm the nested function. The parent's value is {}\".format(value))\n",
    "        \n",
    "    return func\n",
    "\n",
    "func_11 = make_func(11)\n",
    "func_abc = make_func(\"abc\")\n",
    "\n",
    "func_11()\n",
    "func_abc()"
   ]
  },
  {
   "cell_type": "markdown",
   "metadata": {
    "slideshow": {
     "slide_type": "slide"
    }
   },
   "source": [
    "## Wrapper function factory\n",
    "\n",
    "- let's create a function that takes a function return an almost identical function\n",
    "- the returned function adds some logging"
   ]
  },
  {
   "cell_type": "code",
   "execution_count": 12,
   "metadata": {},
   "outputs": [],
   "source": [
    "def add_noise(func):\n",
    "    \n",
    "    def wrapped_with_noise():\n",
    "        print(\"Calling function {}\".format(func.__name__))\n",
    "        func()\n",
    "        print(\"{} finished.\".format(func.__name__))\n",
    "        \n",
    "    return wrapped_with_noise"
   ]
  },
  {
   "cell_type": "markdown",
   "metadata": {
    "slideshow": {
     "slide_type": "subslide"
    }
   },
   "source": [
    "### Wrapping a function\n",
    "\n",
    "The function we are going to wrap:"
   ]
  },
  {
   "cell_type": "code",
   "execution_count": 13,
   "metadata": {
    "slideshow": {
     "slide_type": "-"
    }
   },
   "outputs": [
    {
     "name": "stdout",
     "output_type": "stream",
     "text": [
      "This is not noise\n"
     ]
    }
   ],
   "source": [
    "def noiseless_function():\n",
    "    print(\"This is not noise\")\n",
    "    \n",
    "noiseless_function()"
   ]
  },
  {
   "cell_type": "markdown",
   "metadata": {
    "slideshow": {
     "slide_type": "fragment"
    }
   },
   "source": [
    "#### now add some noise"
   ]
  },
  {
   "cell_type": "code",
   "execution_count": 14,
   "metadata": {},
   "outputs": [
    {
     "name": "stdout",
     "output_type": "stream",
     "text": [
      "Calling function noiseless_function\n",
      "This is not noise\n",
      "noiseless_function finished.\n"
     ]
    }
   ],
   "source": [
    "noisy_function = add_noise(noiseless_function)\n",
    "\n",
    "noisy_function()"
   ]
  },
  {
   "cell_type": "markdown",
   "metadata": {
    "slideshow": {
     "slide_type": "subslide"
    }
   },
   "source": [
    "#### Bound the original reference to the wrapped function\n",
    "\n",
    "- i.e. `greeter` should refer to the wrapped function\n",
    "- we don't need the original function"
   ]
  },
  {
   "cell_type": "code",
   "execution_count": 15,
   "metadata": {},
   "outputs": [
    {
     "name": "stdout",
     "output_type": "stream",
     "text": [
      "Calling function greeter\n",
      "Hello\n",
      "greeter finished.\n"
     ]
    }
   ],
   "source": [
    "def greeter():\n",
    "    print(\"Hello\")\n",
    "   \n",
    "greeter = add_noise(greeter)\n",
    "greeter()"
   ]
  },
  {
   "cell_type": "markdown",
   "metadata": {
    "slideshow": {
     "slide_type": "slide"
    }
   },
   "source": [
    "#### this turns out to be a frequent operation"
   ]
  },
  {
   "cell_type": "code",
   "execution_count": 16,
   "metadata": {},
   "outputs": [
    {
     "name": "stdout",
     "output_type": "stream",
     "text": [
      "Calling function friendly_greeter\n",
      "Hello friend\n",
      "friendly_greeter finished.\n",
      "Calling function rude_greeter\n",
      "Hey you\n",
      "rude_greeter finished.\n"
     ]
    }
   ],
   "source": [
    "def friendly_greeter():\n",
    "    print(\"Hello friend\")\n",
    "    \n",
    "def rude_greeter():\n",
    "    print(\"Hey you\")\n",
    "    \n",
    "friendly_greeter = add_noise(friendly_greeter)\n",
    "rude_greeter = add_noise(rude_greeter)\n",
    "friendly_greeter()\n",
    "\n",
    "rude_greeter()"
   ]
  },
  {
   "cell_type": "markdown",
   "metadata": {
    "slideshow": {
     "slide_type": "slide"
    }
   },
   "source": [
    "## Decorator syntax\n",
    "\n",
    "- a decorator is a function\n",
    "  - that takes a function as an argument\n",
    "  - returns a wrapped version of the function\n",
    "- the decorator syntax is just syntactic sugar (shorthand) for:\n",
    "\n",
    "```python\n",
    "func = decorator(func)\n",
    "```"
   ]
  },
  {
   "cell_type": "code",
   "execution_count": 17,
   "metadata": {
    "slideshow": {
     "slide_type": "fragment"
    }
   },
   "outputs": [
    {
     "name": "stdout",
     "output_type": "stream",
     "text": [
      "Calling function informal_greeter\n",
      "Yo\n",
      "informal_greeter finished.\n"
     ]
    }
   ],
   "source": [
    "@add_noise\n",
    "def informal_greeter():\n",
    "    print(\"Yo\")\n",
    "    \n",
    "# informal_greeter = add_noise(informal_greeter)\n",
    "    \n",
    "informal_greeter()"
   ]
  },
  {
   "cell_type": "markdown",
   "metadata": {
    "slideshow": {
     "slide_type": "subslide"
    }
   },
   "source": [
    "### Pie syntax\n",
    "\n",
    "- introduced in [PEP318](https://www.python.org/dev/peps/pep-0318/) in Python 2.4\n",
    "- various syntax proposals were suggested, summarized [here](https://wiki.python.org/moin/PythonDecorators#A1._pie_decorator_syntax)"
   ]
  },
  {
   "cell_type": "markdown",
   "metadata": {
    "slideshow": {
     "slide_type": "slide"
    }
   },
   "source": [
    "# Problem 1. Function metadata is lost"
   ]
  },
  {
   "cell_type": "code",
   "execution_count": 18,
   "metadata": {},
   "outputs": [
    {
     "data": {
      "text/plain": [
       "'wrapped_with_noise'"
      ]
     },
     "execution_count": 18,
     "metadata": {},
     "output_type": "execute_result"
    }
   ],
   "source": [
    "informal_greeter.__name__"
   ]
  },
  {
   "cell_type": "markdown",
   "metadata": {
    "slideshow": {
     "slide_type": "subslide"
    }
   },
   "source": [
    "### Solution 1. Copy manually"
   ]
  },
  {
   "cell_type": "code",
   "execution_count": 19,
   "metadata": {},
   "outputs": [
    {
     "name": "stdout",
     "output_type": "stream",
     "text": [
      "greeter\n"
     ]
    }
   ],
   "source": [
    "def add_noise(func):\n",
    "    \n",
    "    def wrapped_with_noise():\n",
    "        print(\"Calling {}...\".format(func.__name__))\n",
    "        func()\n",
    "        print(\"{} finished.\".format(func.__name__))\n",
    "        \n",
    "    wrapped_with_noise.__name__ = func.__name__\n",
    "    return wrapped_with_noise\n",
    "\n",
    "@add_noise\n",
    "def greeter():\n",
    "    \"\"\"meaningful documentation\"\"\"\n",
    "    print(\"Hello\")\n",
    "    \n",
    "print(greeter.__name__)"
   ]
  },
  {
   "cell_type": "markdown",
   "metadata": {
    "slideshow": {
     "slide_type": "subslide"
    }
   },
   "source": [
    "What about other metadata such as the docstring?"
   ]
  },
  {
   "cell_type": "code",
   "execution_count": 20,
   "metadata": {},
   "outputs": [
    {
     "name": "stdout",
     "output_type": "stream",
     "text": [
      "None\n"
     ]
    }
   ],
   "source": [
    "print(greeter.__doc__)"
   ]
  },
  {
   "cell_type": "markdown",
   "metadata": {
    "slideshow": {
     "slide_type": "subslide"
    }
   },
   "source": [
    "### Solution 2. `functools.wraps`"
   ]
  },
  {
   "cell_type": "code",
   "execution_count": 21,
   "metadata": {},
   "outputs": [
    {
     "name": "stdout",
     "output_type": "stream",
     "text": [
      "greeter\n",
      "function that says hello\n"
     ]
    }
   ],
   "source": [
    "from functools import wraps\n",
    "\n",
    "def add_noise(func):\n",
    "    \n",
    "    @wraps(func)\n",
    "    def wrapped_with_noise():\n",
    "        print(\"Calling {}...\".format(func.__name__))\n",
    "        func()\n",
    "        print(\"{} finished.\".format(func.__name__))\n",
    "        \n",
    "    wrapped_with_noise.__name__ = func.__name__\n",
    "    return wrapped_with_noise\n",
    "\n",
    "@add_noise\n",
    "def greeter():\n",
    "    \"\"\"function that says hello\"\"\"\n",
    "    print(\"Hello\")\n",
    "    \n",
    "print(greeter.__name__)\n",
    "print(greeter.__doc__)"
   ]
  },
  {
   "cell_type": "markdown",
   "metadata": {
    "slideshow": {
     "slide_type": "slide"
    }
   },
   "source": [
    "## Problem 2. Function arguments\n",
    "\n",
    "- so far we have only decorated functions without parameters\n",
    "- to wrap arbitrary functions, we need to capture a variable number of arguments\n",
    "- remember `args` and `kwargs`"
   ]
  },
  {
   "cell_type": "code",
   "execution_count": 22,
   "metadata": {
    "slideshow": {
     "slide_type": "fragment"
    }
   },
   "outputs": [
    {
     "name": "stdout",
     "output_type": "stream",
     "text": [
      "(1, 'apple')\n",
      "{'tree': 'peach'}\n"
     ]
    }
   ],
   "source": [
    "def function_with_variable_arguments(*args, **kwargs):\n",
    "    print(args)\n",
    "    print(kwargs)\n",
    "    \n",
    "function_with_variable_arguments(1, \"apple\", tree=\"peach\")"
   ]
  },
  {
   "cell_type": "markdown",
   "metadata": {
    "slideshow": {
     "slide_type": "subslide"
    }
   },
   "source": [
    "#### the same mechanism can be used in decorators"
   ]
  },
  {
   "cell_type": "code",
   "execution_count": 23,
   "metadata": {},
   "outputs": [],
   "source": [
    "def add_noise(func):\n",
    "    \n",
    "    @wraps(func)\n",
    "    def wrapped_with_noise(*args, **kwargs):\n",
    "        print(\"Calling {}...\".format(func.__name__))\n",
    "        func(*args, **kwargs)\n",
    "        print(\"{} finished.\".format(func.__name__))\n",
    "        \n",
    "    return wrapped_with_noise"
   ]
  },
  {
   "cell_type": "markdown",
   "metadata": {
    "slideshow": {
     "slide_type": "fragment"
    }
   },
   "source": [
    "- the decorator has only one parameter: `func`, the function to wrap\n",
    "- the returned function (`wrapped_with_noise`) takes arbitrary parameters: `args`, `kwargs`\n",
    "- it calls `func`, the decorator's argument with arbitrary parameters"
   ]
  },
  {
   "cell_type": "code",
   "execution_count": 24,
   "metadata": {
    "slideshow": {
     "slide_type": "subslide"
    }
   },
   "outputs": [
    {
     "name": "stdout",
     "output_type": "stream",
     "text": [
      "Calling personal_greeter...\n",
      "Hello John\n",
      "personal_greeter finished.\n"
     ]
    }
   ],
   "source": [
    "@add_noise\n",
    "def personal_greeter(name):\n",
    "    print(\"Hello {}\".format(name))\n",
    "    \n",
    "personal_greeter(\"John\")"
   ]
  },
  {
   "cell_type": "markdown",
   "metadata": {
    "slideshow": {
     "slide_type": "slide"
    }
   },
   "source": [
    "# Decorators can take parameters too\n",
    "\n",
    "- they have to return a decorator without parameters - decorator factory"
   ]
  },
  {
   "cell_type": "code",
   "execution_count": 25,
   "metadata": {},
   "outputs": [],
   "source": [
    "def decorator_with_param(param1, param2=None):\n",
    "    def actual_decorator(func):\n",
    "        @wraps(func)\n",
    "        def wrapper(*args, **kwargs):\n",
    "            print(\"Wrapping function {}\".format(func.__name__))\n",
    "            print(\"Params: {0}, {1}\".format(param1, param2))\n",
    "            return func(*args, **kwargs)\n",
    "        return wrapper\n",
    "    return actual_decorator"
   ]
  },
  {
   "cell_type": "code",
   "execution_count": 26,
   "metadata": {
    "slideshow": {
     "slide_type": "fragment"
    }
   },
   "outputs": [
    {
     "name": "stdout",
     "output_type": "stream",
     "text": [
      "Wrapping function personal_greeter\n",
      "Params: 42, abc\n",
      "Hello Mary\n"
     ]
    }
   ],
   "source": [
    "@decorator_with_param(42, \"abc\")\n",
    "def personal_greeter(name):\n",
    "    print(\"Hello {}\".format(name))\n",
    "    \n",
    "personal_greeter(\"Mary\")"
   ]
  },
  {
   "cell_type": "code",
   "execution_count": 27,
   "metadata": {},
   "outputs": [
    {
     "name": "stdout",
     "output_type": "stream",
     "text": [
      "Wrapping function hello\n",
      "Params: 1, 2\n",
      "Hello john\n"
     ]
    }
   ],
   "source": [
    "def hello(name):\n",
    "    print(\"Hello {}\".format(name))\n",
    "    \n",
    "hello = decorator_with_param(1, 2)(hello)\n",
    "hello(\"john\")"
   ]
  },
  {
   "cell_type": "markdown",
   "metadata": {
    "slideshow": {
     "slide_type": "slide"
    }
   },
   "source": [
    "# Decorators can be implemented as classes\n",
    "\n",
    "- `__call__` implements the wrapped function"
   ]
  },
  {
   "cell_type": "code",
   "execution_count": 28,
   "metadata": {},
   "outputs": [
    {
     "name": "stdout",
     "output_type": "stream",
     "text": [
      "before func foo\n",
      "bar\n",
      "after func foo\n"
     ]
    }
   ],
   "source": [
    "class MyDecorator(object):\n",
    "    def __init__(self, func):\n",
    "        self.func_to_wrap = func\n",
    "        wraps(func)(self)\n",
    "        \n",
    "    def __call__(self, *args, **kwargs):\n",
    "        print(\"before func {}\".format(self.func_to_wrap.__name__))\n",
    "        res = self.func_to_wrap(*args, **kwargs)\n",
    "        print(\"after func {}\".format(self.func_to_wrap.__name__))\n",
    "        return res\n",
    "    \n",
    "@MyDecorator\n",
    "def foo():\n",
    "    print(\"bar\")\n",
    "\n",
    "foo()"
   ]
  },
  {
   "cell_type": "markdown",
   "metadata": {
    "slideshow": {
     "slide_type": "slide"
    }
   },
   "source": [
    "# See also\n",
    "\n",
    "Decorator overview with some advanced techniques: https://www.youtube.com/watch?v=9oyr0mocZTg\n",
    "\n",
    "A very deep dive into decorators: https://www.youtube.com/watch?v=7jGtDGxgwEY"
   ]
  },
  {
   "cell_type": "markdown",
   "metadata": {},
   "source": [
    "# Functional Python: map, filter and reduce\n",
    "\n",
    "Python has 3 built-in functions that originate from functional programming.\n",
    "\n",
    "## Map\n",
    "\n",
    "- `map` applies a function on each element of a sequence"
   ]
  },
  {
   "cell_type": "code",
   "execution_count": 29,
   "metadata": {},
   "outputs": [
    {
     "data": {
      "text/plain": [
       "[4, 6, 'abcabc']"
      ]
     },
     "execution_count": 29,
     "metadata": {},
     "output_type": "execute_result"
    }
   ],
   "source": [
    "def double(e):\n",
    "    return e * 2\n",
    "\n",
    "l = [2, 3, \"abc\"]\n",
    "\n",
    "list(map(double, l))"
   ]
  },
  {
   "cell_type": "code",
   "execution_count": 30,
   "metadata": {},
   "outputs": [
    {
     "data": {
      "text/plain": [
       "<map at 0x7f1c702c9a58>"
      ]
     },
     "execution_count": 30,
     "metadata": {},
     "output_type": "execute_result"
    }
   ],
   "source": [
    "map(double, l)"
   ]
  },
  {
   "cell_type": "code",
   "execution_count": 31,
   "metadata": {},
   "outputs": [
    {
     "data": {
      "text/plain": [
       "[4, 6, 'abcabc']"
      ]
     },
     "execution_count": 31,
     "metadata": {},
     "output_type": "execute_result"
    }
   ],
   "source": [
    "list(map(lambda x: x * 2, [2, 3, \"abc\"]))"
   ]
  },
  {
   "cell_type": "markdown",
   "metadata": {},
   "source": [
    "## Filter\n",
    "\n",
    "- filter creates a list of elements for which a function returns true"
   ]
  },
  {
   "cell_type": "code",
   "execution_count": 32,
   "metadata": {},
   "outputs": [
    {
     "data": {
      "text/plain": [
       "[2, 0, 2]"
      ]
     },
     "execution_count": 32,
     "metadata": {},
     "output_type": "execute_result"
    }
   ],
   "source": [
    "def is_even(n):\n",
    "    return n % 2 == 0\n",
    "\n",
    "l = [2, 3, -1, 0, 2]\n",
    "\n",
    "list(filter(is_even, l))"
   ]
  },
  {
   "cell_type": "code",
   "execution_count": 33,
   "metadata": {},
   "outputs": [
    {
     "data": {
      "text/plain": [
       "[0, 2, 4, 6]"
      ]
     },
     "execution_count": 33,
     "metadata": {},
     "output_type": "execute_result"
    }
   ],
   "source": [
    "list(filter(lambda x: x % 2 == 0, range(8)))"
   ]
  },
  {
   "cell_type": "markdown",
   "metadata": {},
   "source": [
    "### Most comprehensions can be rewritten using map and filter"
   ]
  },
  {
   "cell_type": "code",
   "execution_count": 34,
   "metadata": {},
   "outputs": [
    {
     "name": "stdout",
     "output_type": "stream",
     "text": [
      "[1.0, 1.0, 0, -1.0, 1.0, 0, 1.0]\n"
     ]
    }
   ],
   "source": [
    "l = [2, 3, 0, -1, 2, 0, 1]\n",
    "\n",
    "signum = [x / abs(x) if x != 0 else x for x in l]\n",
    "print(signum)"
   ]
  },
  {
   "cell_type": "code",
   "execution_count": 35,
   "metadata": {},
   "outputs": [
    {
     "name": "stdout",
     "output_type": "stream",
     "text": [
      "[1.0, 1.0, 0, -1.0, 1.0, 0, 1.0]\n"
     ]
    }
   ],
   "source": [
    "print(list(map(lambda x: x / abs(x) if x != 0 else 0, l)))"
   ]
  },
  {
   "cell_type": "code",
   "execution_count": 36,
   "metadata": {},
   "outputs": [
    {
     "name": "stdout",
     "output_type": "stream",
     "text": [
      "[2, 0, 2, 0]\n"
     ]
    }
   ],
   "source": [
    "even = [x for x in l if x % 2 == 0]\n",
    "print(even)"
   ]
  },
  {
   "cell_type": "code",
   "execution_count": 37,
   "metadata": {},
   "outputs": [
    {
     "name": "stdout",
     "output_type": "stream",
     "text": [
      "[2, 0, 2, 0]\n"
     ]
    }
   ],
   "source": [
    "print(list(filter(lambda x: x % 2 == 0, l)))"
   ]
  },
  {
   "cell_type": "markdown",
   "metadata": {},
   "source": [
    "## Reduce\n",
    "\n",
    "- reduce applies a rolling computation on a sequence\n",
    "- the first argument of `reduce` is two-argument function\n",
    "- the second argument is the sequence\n",
    "- the result is accumulated in an accumulator"
   ]
  },
  {
   "cell_type": "code",
   "execution_count": 38,
   "metadata": {},
   "outputs": [
    {
     "data": {
      "text/plain": [
       "-8"
      ]
     },
     "execution_count": 38,
     "metadata": {},
     "output_type": "execute_result"
    }
   ],
   "source": [
    "from functools import reduce\n",
    "\n",
    "l = [1, 2, -1, 4]\n",
    "reduce(lambda x, y: x*y, l)"
   ]
  },
  {
   "cell_type": "markdown",
   "metadata": {},
   "source": [
    "an initial value for the accumulator may be supplied"
   ]
  },
  {
   "cell_type": "code",
   "execution_count": 39,
   "metadata": {},
   "outputs": [
    {
     "data": {
      "text/plain": [
       "-8"
      ]
     },
     "execution_count": 39,
     "metadata": {},
     "output_type": "execute_result"
    }
   ],
   "source": [
    "reduce(lambda x, y: x*y, l, 1)"
   ]
  },
  {
   "cell_type": "code",
   "execution_count": 40,
   "metadata": {},
   "outputs": [
    {
     "data": {
      "text/plain": [
       "4"
      ]
     },
     "execution_count": 40,
     "metadata": {},
     "output_type": "execute_result"
    }
   ],
   "source": [
    "reduce(lambda x, y: max(x, y), l)\n",
    "reduce(max, l)"
   ]
  },
  {
   "cell_type": "code",
   "execution_count": 41,
   "metadata": {},
   "outputs": [
    {
     "data": {
      "text/plain": [
       "2"
      ]
     },
     "execution_count": 41,
     "metadata": {},
     "output_type": "execute_result"
    }
   ],
   "source": [
    "reduce(lambda x, y: x + int(y % 2 == 0), l, 0)"
   ]
  },
  {
   "cell_type": "markdown",
   "metadata": {},
   "source": [
    "# Packaging\n",
    "\n",
    "Python projects can be packaged and distributed.\n",
    "\n",
    "## Naming convention\n",
    "\n",
    "- all lowercase\n",
    "- underscore separated, no hyphens\n",
    "- unique on PyPI\n",
    "\n",
    "## Minimal structure\n",
    "\n",
    "~~~\n",
    "example_package/\n",
    "    example_package/\n",
    "        __init__.py\n",
    "    setup.py\n",
    "~~~\n",
    "\n",
    "- the source code is located in a separate subdirectory with the same name\n",
    "  - just a convention, not mandatory\n",
    "- `setup.py` describes how the package should be installed\n",
    "\n",
    "## Source code\n",
    "\n",
    "- each directory that has a `__init__.py` file is going to be a subpackage\n",
    "  - `__init__.py` may be empty\n",
    "  \n",
    "## setup.py\n",
    "\n",
    "Demo\n",
    "\n",
    "## Nice to have\n",
    "\n",
    "- licence\n",
    "- `Manifest.IN` - list of additional files\n",
    "- `setup.cfg` - option defaults for `setup.py`\n",
    "- `README.rst` - `README` using reStructuredText\n",
    "\n",
    "https://github.com/pypa/sampleproject"
   ]
  },
  {
   "cell_type": "markdown",
   "metadata": {
    "collapsed": true
   },
   "source": [
    "## See also\n",
    "\n",
    "https://packaging.python.org/tutorials/distributing-packages/"
   ]
  },
  {
   "cell_type": "markdown",
   "metadata": {},
   "source": [
    "# Pip, virtualenv, Anaconda\n",
    "\n",
    "1. Pip\n",
    "  - package installer\n",
    "2. Virtualenv\n",
    "  - Python environment manager\n",
    "  - a virtualenv is a Python environment separate from the system Python install\n",
    "  - advantages\n",
    "    - different Python version than the system default may be used\n",
    "    - different package versions may be used\n",
    "    - updates and package installs do not affect the system install\n",
    "    - no need for root/Admin access\n",
    "  - activate and deactivate\n",
    "  - virtualenvwrapper is a collection of helper scripts (mainly for Linux)\n",
    "3. Anaconda\n",
    "  - package installer and environment manager\n",
    "  - scientific packages included"
   ]
  },
  {
   "cell_type": "markdown",
   "metadata": {},
   "source": [
    "# Global Interpreter Lock (GIL)\n",
    "\n",
    "- CPython, the reference implementation has a reference counting garbage collector\n",
    "- reference counting GC is **not** thread-safe :(\n",
    "- \"GIL, is a mutex that protects access to Python objects, preventing multiple threads from executing Python bytecodes at once\"\n",
    "- IO, image processing and Numpy (numerical computation and matrix library) heavy lifting happens outside the GIL\n",
    "- other computations cannot fully take advantage of multithreading :(\n",
    "- Jython and IronPython do not have a GIL\n",
    "\n",
    "## See also\n",
    "\n",
    "[Python wiki page on the GIL](https://wiki.python.org/moin/GlobalInterpreterLock)\n",
    "\n",
    "[Live GIL removal (advanced)](https://www.youtube.com/watch?v=pLqv11ScGsQ)"
   ]
  },
  {
   "cell_type": "code",
   "execution_count": null,
   "metadata": {},
   "outputs": [],
   "source": []
  }
 ],
 "metadata": {
  "kernelspec": {
   "display_name": "Python 3",
   "language": "python",
   "name": "python3"
  },
  "language_info": {
   "codemirror_mode": {
    "name": "ipython",
    "version": 3
   },
   "file_extension": ".py",
   "mimetype": "text/x-python",
   "name": "python",
   "nbconvert_exporter": "python",
   "pygments_lexer": "ipython3",
   "version": "3.6.2"
  }
 },
 "nbformat": 4,
 "nbformat_minor": 2
}
