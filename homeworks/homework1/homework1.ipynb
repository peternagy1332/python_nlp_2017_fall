{
 "cells": [
  {
   "cell_type": "markdown",
   "metadata": {},
   "source": [
    "# [Your name]\n",
    "\n",
    "\n",
    "# Homework 1\n",
    "\n",
    "The maximum score of this homework is 100+20 points. Grading is listed in this table:\n",
    "\n",
    "| Grade | Score range |\n",
    "| --- | --- |\n",
    "| 5 | 85+ |\n",
    "| 4 | 70-84 |\n",
    "| 3 | 55-69 |\n",
    "| 2 | 40-54 |\n",
    "| 1 | 0-39 |\n",
    "\n",
    "Most exercises include tests which should pass if your solution is correct.\n",
    "However successful test do not guarantee that your solution is correct.\n",
    "You are free to add more tests.\n",
    "\n",
    "\n",
    "# Exercise 1, small exercises (30 points)\n",
    "\n",
    "## 1.1 Groupby function (10 points)\n",
    "\n",
    "Write a function that takes a sequene and a callable as parameters. The function should call its second parameter on every element on the sequence and group them by return value. It should return a dictionary whose keys are the return values of the callable and values are lists of sequence elements that the callable return that value to."
   ]
  },
  {
   "cell_type": "code",
   "execution_count": null,
   "metadata": {},
   "outputs": [],
   "source": [
    "def group_by_retval(sequence, grouper_func):\n",
    "    # TODO\n",
    "\n",
    "l = [\"ab\", 12, \"cd\", \"d\", 3]\n",
    "\n",
    "assert(group_by_retval(l, lambda x: isinstance(x, str)) == {True: [\"ab\", \"cd\", \"d\"], False: [12, 3]})\n",
    "assert(group_by_retval([1, 1, 2, 3, 4], lambda x: x % 3) == {0: [3], 1: [1, 1, 4], 2: [2]})"
   ]
  },
  {
   "cell_type": "markdown",
   "metadata": {},
   "source": [
    "## 1.2 Replace rare words (10 points)\n",
    "\n",
    "Write a function that takes a text and a number $N$ as parameters and replaces every word other than the most common $N$ in the text with a common symbol. The symbol by default is `__RARE__` but it can be redefined."
   ]
  },
  {
   "cell_type": "code",
   "execution_count": null,
   "metadata": {},
   "outputs": [],
   "source": [
    "#TODO\n",
    "\n",
    "assert(replace_rare_words(\"a b a b b c\", 2) == \"a b a b b __RARE__\")\n",
    "assert(replace_rare_words(\"a b a b b c\", 2, rare_symbol=\"rare\") == \"a b a b b rare\")"
   ]
  },
  {
   "cell_type": "markdown",
   "metadata": {},
   "source": [
    "## 1.3 Levenshtein distance (10 points)\n",
    "\n",
    "Write a function that returns the Levenshtein distance of two strings.\n",
    "\n",
    "https://en.wikipedia.org/wiki/Levenshtein_distance"
   ]
  },
  {
   "cell_type": "code",
   "execution_count": null,
   "metadata": {},
   "outputs": [],
   "source": [
    "# TODO\n",
    "\n",
    "assert(levenshtein(\"abc\", \"ab\") == 1)\n",
    "assert(levenshtein(\"abc\", \"abc\") == 0)\n",
    "assert(levenshtein(\"abc\", \"ab c\") == 1)\n",
    "assert(levenshtein(\"\", \"abc\") == 3)"
   ]
  },
  {
   "cell_type": "markdown",
   "metadata": {},
   "source": [
    "# Exercise 2, Mutable string (40 points)\n",
    "\n",
    "Python strings are immutable. Create a mutable string class.\n",
    "\n",
    "Implement the following features (see the tests below).\n",
    "\n",
    "- initialization from `str`.\n",
    "- assignment (i.e. modifying a character),\n",
    "  - if the index is out of range, it should fill the blanks with spaces (see the tests below)\n",
    "- conversion to built-in `str` and `list`. The latter is a list of the characters.\n",
    "- addition with other `MutableString` instances and built-in strings,\n",
    "- multiplication with integers. Multiplying a string with 3 means repeating the string 3 times.\n",
    "- built-in `len` function,\n",
    "- comparision with strings,\n",
    "- iteration."
   ]
  },
  {
   "cell_type": "code",
   "execution_count": null,
   "metadata": {},
   "outputs": [],
   "source": [
    "class MutableString(object):\n",
    "    #TODO\n",
    "    \n",
    "m1 = MutableString(\"abc\")\n",
    "m1[1] = \"d\"\n",
    "assert(m1[1] == \"d\")\n",
    "m1[1] = \"b\"\n",
    "m1[4] = \"d\"\n",
    "assert(m1[3] == \" \" and m1[4] == \"d\" and len(m1) == 5)\n",
    "\n",
    "assert(list(m1) == list(\"abc d\"))\n",
    "assert(str(m1) == \"abc d\")\n",
    "\n",
    "m1 = MutableString(\"abc\")\n",
    "m2 = m1 + \"def\"\n",
    "assert(isinstance(m2, MutableString))\n",
    "assert(m2 == \"abcdef\")\n",
    "\n",
    "m3 = m1 * 3\n",
    "assert(isinstance(m3, MutableString) and m3 == \"abcabcabc\")\n",
    "\n",
    "m2[0] = \"A\"  # modifying m2 should not change m1\n",
    "assert(m1 == \"abc\")\n",
    "\n",
    "# right addition with strings\n",
    "m1 = MutableString(\"abc\")\n",
    "m2 = \"def\" + m1\n",
    "assert(m2 == \"defabc\")"
   ]
  },
  {
   "cell_type": "markdown",
   "metadata": {},
   "source": [
    "# Exercise 3 - Text generation (30+20 points)\n",
    "\n",
    "## 3.1 (Same as a laboratory exercise) Write a function that computes N-gram frequencies in a string. (0 point)"
   ]
  },
  {
   "cell_type": "code",
   "execution_count": null,
   "metadata": {},
   "outputs": [],
   "source": [
    "# TODO\n",
    "\n",
    "assert(count_ngram_freqs(\"abcc\", 1) == {\"a\": 1, \"b\": 1, \"c\": 2})\n",
    "assert(count_ngram_freqs(\"abccab\", 2) == {\"ab\": 2, \"bc\": 1, \"cc\": 1, \"ca\": 1})"
   ]
  },
  {
   "cell_type": "markdown",
   "metadata": {},
   "source": [
    "## 3.2 Define a text generator function. (25 points)\n",
    "\n",
    "The function takes 4 arguments:\n",
    "\n",
    "1. starting text (at least $N-1$ long,\n",
    "2. target length: length of the output string,\n",
    "3. n-gram frequency dictionary,\n",
    "4. N, length of the n-grams.\n",
    "\n",
    "The function generates one character at a time given the last $N-1$ characters.\n",
    "The probability of `c` being generated after `ab` is defined as:\n",
    "\n",
    "$$\n",
    "P(c | a b ) = \\frac{\\text{freq}(a b c)}{\\text{freq}(a b)},\n",
    "$$\n",
    "\n",
    "where  $\\text{freq}(a b c)$ is obtained by counting how many times `abc` occurs in the training corpus (`count_ngram_freqs` function).\n",
    "\n",
    "If the generated text ends with a $N-1$-gram that does not occur in the training data, generate the next character from the full distribution."
   ]
  },
  {
   "cell_type": "code",
   "execution_count": null,
   "metadata": {},
   "outputs": [],
   "source": [
    "# TODO\n",
    "\n",
    "toy_freqs = count_ngram_freqs(\"abcabcda\", 3)\n",
    "gen = generate_text(\"abc\", 5, toy_freqs, 3)\n",
    "\n",
    "assert(len(gen) == 5)\n",
    "assert(set(gen) <= set(\"abcd\"))"
   ]
  },
  {
   "cell_type": "markdown",
   "metadata": {
    "collapsed": true
   },
   "source": [
    "## 3.3 Test your solution on a small Wikipedia corpus. (5 points)\n",
    "\n",
    "Collect a sample of at least 1 million characters from Wikipedia using the `wikipedia` module."
   ]
  },
  {
   "cell_type": "code",
   "execution_count": null,
   "metadata": {},
   "outputs": [],
   "source": []
  },
  {
   "cell_type": "markdown",
   "metadata": {},
   "source": [
    "## \\*3.4 Smoothing (20 points)\n",
    "\n",
    "Implement one or more smoothing methods such as Jelinek-Mercer smoothing or Katz's backoff.\n",
    "\n",
    "https://nlp.stanford.edu/~wcmac/papers/20050421-smoothing-tutorial.pdf"
   ]
  },
  {
   "cell_type": "code",
   "execution_count": null,
   "metadata": {},
   "outputs": [],
   "source": []
  }
 ],
 "metadata": {
  "kernelspec": {
   "display_name": "Python 3",
   "language": "python",
   "name": "python3"
  },
  "language_info": {
   "codemirror_mode": {
    "name": "ipython",
    "version": 3
   },
   "file_extension": ".py",
   "mimetype": "text/x-python",
   "name": "python",
   "nbconvert_exporter": "python",
   "pygments_lexer": "ipython3",
   "version": "3.5.2"
  }
 },
 "nbformat": 4,
 "nbformat_minor": 2
}
